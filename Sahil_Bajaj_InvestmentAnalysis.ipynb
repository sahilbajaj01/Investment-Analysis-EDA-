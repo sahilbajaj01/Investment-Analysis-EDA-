{
 "cells": [
  {
   "cell_type": "markdown",
   "metadata": {},
   "source": [
    "# Investment Analysis Assignment"
   ]
  },
  {
   "cell_type": "markdown",
   "metadata": {},
   "source": [
    "Assignment Brief:<br>\n",
    "You work for Spark Funds, an asset management company. Spark Funds wants to make investments in a few companies. The CEO of Spark Funds wants to understand the global trends in investments so that she can take the investment decisions effectively.\n",
    "\n",
    "constraints:\n",
    "1. It wants to invest between 5 to 15 million USD per round of investment\n",
    "\n",
    "2. It wants to invest only in English-speaking countries because of the ease of communication with the companies it would invest in\n",
    "\n",
    "Compony Investment Stratergy:<br>\n",
    "\n",
    "Spark Funds wants to invest where most other investors are investing. This pattern is often observed among early stage startup investors.\n",
    "\n",
    "Goal of the Data Analysis:<br>\n",
    "1. Funding type analysis\n",
    "2. Country analysis\n",
    "3. Sector analysis"
   ]
  },
  {
   "cell_type": "code",
   "execution_count": 1,
   "metadata": {},
   "outputs": [],
   "source": [
    "# Import the required packages for the analysis\n",
    "import pandas as pd\n",
    "import numpy as np\n",
    "\n",
    "import matplotlib.pyplot as plt\n",
    "import seaborn as sns\n",
    "\n",
    "import warnings\n",
    "warnings.filterwarnings('ignore')"
   ]
  },
  {
   "cell_type": "code",
   "execution_count": 2,
   "metadata": {},
   "outputs": [],
   "source": [
    "# Importing the datasets\n",
    "companies = pd.read_csv(\"companies.csv\", encoding=\"ISO-8859-1\")\n",
    "round2 = pd.read_csv(\"rounds2.csv\", encoding=\"ISO-8859-1\")"
   ]
  },
  {
   "cell_type": "code",
   "execution_count": 3,
   "metadata": {},
   "outputs": [
    {
     "data": {
      "text/html": [
       "<div>\n",
       "<style scoped>\n",
       "    .dataframe tbody tr th:only-of-type {\n",
       "        vertical-align: middle;\n",
       "    }\n",
       "\n",
       "    .dataframe tbody tr th {\n",
       "        vertical-align: top;\n",
       "    }\n",
       "\n",
       "    .dataframe thead th {\n",
       "        text-align: right;\n",
       "    }\n",
       "</style>\n",
       "<table border=\"1\" class=\"dataframe\">\n",
       "  <thead>\n",
       "    <tr style=\"text-align: right;\">\n",
       "      <th></th>\n",
       "      <th>company_permalink</th>\n",
       "      <th>funding_round_permalink</th>\n",
       "      <th>funding_round_type</th>\n",
       "      <th>funding_round_code</th>\n",
       "      <th>funded_at</th>\n",
       "      <th>raised_amount_usd</th>\n",
       "    </tr>\n",
       "  </thead>\n",
       "  <tbody>\n",
       "    <tr>\n",
       "      <th>0</th>\n",
       "      <td>/organization/-fame</td>\n",
       "      <td>/funding-round/9a01d05418af9f794eebff7ace91f638</td>\n",
       "      <td>venture</td>\n",
       "      <td>B</td>\n",
       "      <td>05-01-2015</td>\n",
       "      <td>10000000.0</td>\n",
       "    </tr>\n",
       "    <tr>\n",
       "      <th>1</th>\n",
       "      <td>/ORGANIZATION/-QOUNTER</td>\n",
       "      <td>/funding-round/22dacff496eb7acb2b901dec1dfe5633</td>\n",
       "      <td>venture</td>\n",
       "      <td>A</td>\n",
       "      <td>14-10-2014</td>\n",
       "      <td>NaN</td>\n",
       "    </tr>\n",
       "    <tr>\n",
       "      <th>2</th>\n",
       "      <td>/organization/-qounter</td>\n",
       "      <td>/funding-round/b44fbb94153f6cdef13083530bb48030</td>\n",
       "      <td>seed</td>\n",
       "      <td>NaN</td>\n",
       "      <td>01-03-2014</td>\n",
       "      <td>700000.0</td>\n",
       "    </tr>\n",
       "    <tr>\n",
       "      <th>3</th>\n",
       "      <td>/ORGANIZATION/-THE-ONE-OF-THEM-INC-</td>\n",
       "      <td>/funding-round/650b8f704416801069bb178a1418776b</td>\n",
       "      <td>venture</td>\n",
       "      <td>B</td>\n",
       "      <td>30-01-2014</td>\n",
       "      <td>3406878.0</td>\n",
       "    </tr>\n",
       "    <tr>\n",
       "      <th>4</th>\n",
       "      <td>/organization/0-6-com</td>\n",
       "      <td>/funding-round/5727accaeaa57461bd22a9bdd945382d</td>\n",
       "      <td>venture</td>\n",
       "      <td>A</td>\n",
       "      <td>19-03-2008</td>\n",
       "      <td>2000000.0</td>\n",
       "    </tr>\n",
       "  </tbody>\n",
       "</table>\n",
       "</div>"
      ],
      "text/plain": [
       "                     company_permalink  \\\n",
       "0                  /organization/-fame   \n",
       "1               /ORGANIZATION/-QOUNTER   \n",
       "2               /organization/-qounter   \n",
       "3  /ORGANIZATION/-THE-ONE-OF-THEM-INC-   \n",
       "4                /organization/0-6-com   \n",
       "\n",
       "                           funding_round_permalink funding_round_type  \\\n",
       "0  /funding-round/9a01d05418af9f794eebff7ace91f638            venture   \n",
       "1  /funding-round/22dacff496eb7acb2b901dec1dfe5633            venture   \n",
       "2  /funding-round/b44fbb94153f6cdef13083530bb48030               seed   \n",
       "3  /funding-round/650b8f704416801069bb178a1418776b            venture   \n",
       "4  /funding-round/5727accaeaa57461bd22a9bdd945382d            venture   \n",
       "\n",
       "  funding_round_code   funded_at  raised_amount_usd  \n",
       "0                  B  05-01-2015         10000000.0  \n",
       "1                  A  14-10-2014                NaN  \n",
       "2                NaN  01-03-2014           700000.0  \n",
       "3                  B  30-01-2014          3406878.0  \n",
       "4                  A  19-03-2008          2000000.0  "
      ]
     },
     "execution_count": 3,
     "metadata": {},
     "output_type": "execute_result"
    }
   ],
   "source": [
    "# Exploring round2 dataframe\n",
    "round2.head()"
   ]
  },
  {
   "cell_type": "code",
   "execution_count": 4,
   "metadata": {},
   "outputs": [
    {
     "name": "stdout",
     "output_type": "stream",
     "text": [
      "<class 'pandas.core.frame.DataFrame'>\n",
      "RangeIndex: 114949 entries, 0 to 114948\n",
      "Data columns (total 6 columns):\n",
      " #   Column                   Non-Null Count   Dtype  \n",
      "---  ------                   --------------   -----  \n",
      " 0   company_permalink        114949 non-null  object \n",
      " 1   funding_round_permalink  114949 non-null  object \n",
      " 2   funding_round_type       114949 non-null  object \n",
      " 3   funding_round_code       31140 non-null   object \n",
      " 4   funded_at                114949 non-null  object \n",
      " 5   raised_amount_usd        94959 non-null   float64\n",
      "dtypes: float64(1), object(5)\n",
      "memory usage: 5.3+ MB\n"
     ]
    }
   ],
   "source": [
    "round2.info()"
   ]
  },
  {
   "cell_type": "code",
   "execution_count": 5,
   "metadata": {},
   "outputs": [
    {
     "data": {
      "text/html": [
       "<div>\n",
       "<style scoped>\n",
       "    .dataframe tbody tr th:only-of-type {\n",
       "        vertical-align: middle;\n",
       "    }\n",
       "\n",
       "    .dataframe tbody tr th {\n",
       "        vertical-align: top;\n",
       "    }\n",
       "\n",
       "    .dataframe thead th {\n",
       "        text-align: right;\n",
       "    }\n",
       "</style>\n",
       "<table border=\"1\" class=\"dataframe\">\n",
       "  <thead>\n",
       "    <tr style=\"text-align: right;\">\n",
       "      <th></th>\n",
       "      <th>company_permalink</th>\n",
       "      <th>funding_round_permalink</th>\n",
       "      <th>funding_round_type</th>\n",
       "      <th>funding_round_code</th>\n",
       "      <th>funded_at</th>\n",
       "      <th>raised_amount_usd</th>\n",
       "    </tr>\n",
       "  </thead>\n",
       "  <tbody>\n",
       "    <tr>\n",
       "      <th>count</th>\n",
       "      <td>114949</td>\n",
       "      <td>114949</td>\n",
       "      <td>114949</td>\n",
       "      <td>31140</td>\n",
       "      <td>114949</td>\n",
       "      <td>9.495900e+04</td>\n",
       "    </tr>\n",
       "    <tr>\n",
       "      <th>unique</th>\n",
       "      <td>90247</td>\n",
       "      <td>114949</td>\n",
       "      <td>14</td>\n",
       "      <td>8</td>\n",
       "      <td>5033</td>\n",
       "      <td>NaN</td>\n",
       "    </tr>\n",
       "    <tr>\n",
       "      <th>top</th>\n",
       "      <td>/ORGANIZATION/SOLARFLARE</td>\n",
       "      <td>/funding-round/b62e2d36cb07afdc3c2e7b980828b340</td>\n",
       "      <td>venture</td>\n",
       "      <td>A</td>\n",
       "      <td>01-01-2014</td>\n",
       "      <td>NaN</td>\n",
       "    </tr>\n",
       "    <tr>\n",
       "      <th>freq</th>\n",
       "      <td>10</td>\n",
       "      <td>1</td>\n",
       "      <td>55494</td>\n",
       "      <td>14747</td>\n",
       "      <td>779</td>\n",
       "      <td>NaN</td>\n",
       "    </tr>\n",
       "    <tr>\n",
       "      <th>mean</th>\n",
       "      <td>NaN</td>\n",
       "      <td>NaN</td>\n",
       "      <td>NaN</td>\n",
       "      <td>NaN</td>\n",
       "      <td>NaN</td>\n",
       "      <td>1.042687e+07</td>\n",
       "    </tr>\n",
       "    <tr>\n",
       "      <th>std</th>\n",
       "      <td>NaN</td>\n",
       "      <td>NaN</td>\n",
       "      <td>NaN</td>\n",
       "      <td>NaN</td>\n",
       "      <td>NaN</td>\n",
       "      <td>1.148212e+08</td>\n",
       "    </tr>\n",
       "    <tr>\n",
       "      <th>min</th>\n",
       "      <td>NaN</td>\n",
       "      <td>NaN</td>\n",
       "      <td>NaN</td>\n",
       "      <td>NaN</td>\n",
       "      <td>NaN</td>\n",
       "      <td>0.000000e+00</td>\n",
       "    </tr>\n",
       "    <tr>\n",
       "      <th>25%</th>\n",
       "      <td>NaN</td>\n",
       "      <td>NaN</td>\n",
       "      <td>NaN</td>\n",
       "      <td>NaN</td>\n",
       "      <td>NaN</td>\n",
       "      <td>3.225000e+05</td>\n",
       "    </tr>\n",
       "    <tr>\n",
       "      <th>50%</th>\n",
       "      <td>NaN</td>\n",
       "      <td>NaN</td>\n",
       "      <td>NaN</td>\n",
       "      <td>NaN</td>\n",
       "      <td>NaN</td>\n",
       "      <td>1.680511e+06</td>\n",
       "    </tr>\n",
       "    <tr>\n",
       "      <th>75%</th>\n",
       "      <td>NaN</td>\n",
       "      <td>NaN</td>\n",
       "      <td>NaN</td>\n",
       "      <td>NaN</td>\n",
       "      <td>NaN</td>\n",
       "      <td>7.000000e+06</td>\n",
       "    </tr>\n",
       "    <tr>\n",
       "      <th>max</th>\n",
       "      <td>NaN</td>\n",
       "      <td>NaN</td>\n",
       "      <td>NaN</td>\n",
       "      <td>NaN</td>\n",
       "      <td>NaN</td>\n",
       "      <td>2.127194e+10</td>\n",
       "    </tr>\n",
       "  </tbody>\n",
       "</table>\n",
       "</div>"
      ],
      "text/plain": [
       "               company_permalink  \\\n",
       "count                     114949   \n",
       "unique                     90247   \n",
       "top     /ORGANIZATION/SOLARFLARE   \n",
       "freq                          10   \n",
       "mean                         NaN   \n",
       "std                          NaN   \n",
       "min                          NaN   \n",
       "25%                          NaN   \n",
       "50%                          NaN   \n",
       "75%                          NaN   \n",
       "max                          NaN   \n",
       "\n",
       "                                funding_round_permalink funding_round_type  \\\n",
       "count                                            114949             114949   \n",
       "unique                                           114949                 14   \n",
       "top     /funding-round/b62e2d36cb07afdc3c2e7b980828b340            venture   \n",
       "freq                                                  1              55494   \n",
       "mean                                                NaN                NaN   \n",
       "std                                                 NaN                NaN   \n",
       "min                                                 NaN                NaN   \n",
       "25%                                                 NaN                NaN   \n",
       "50%                                                 NaN                NaN   \n",
       "75%                                                 NaN                NaN   \n",
       "max                                                 NaN                NaN   \n",
       "\n",
       "       funding_round_code   funded_at  raised_amount_usd  \n",
       "count               31140      114949       9.495900e+04  \n",
       "unique                  8        5033                NaN  \n",
       "top                     A  01-01-2014                NaN  \n",
       "freq                14747         779                NaN  \n",
       "mean                  NaN         NaN       1.042687e+07  \n",
       "std                   NaN         NaN       1.148212e+08  \n",
       "min                   NaN         NaN       0.000000e+00  \n",
       "25%                   NaN         NaN       3.225000e+05  \n",
       "50%                   NaN         NaN       1.680511e+06  \n",
       "75%                   NaN         NaN       7.000000e+06  \n",
       "max                   NaN         NaN       2.127194e+10  "
      ]
     },
     "execution_count": 5,
     "metadata": {},
     "output_type": "execute_result"
    }
   ],
   "source": [
    "round2.describe(include=\"all\")"
   ]
  },
  {
   "cell_type": "code",
   "execution_count": 6,
   "metadata": {},
   "outputs": [
    {
     "name": "stdout",
     "output_type": "stream",
     "text": [
      "66370\n"
     ]
    }
   ],
   "source": [
    "# 1.1 Number of unique companies present in round2 dataframe\n",
    "\n",
    "round2['company_permalink']= round2['company_permalink'].str.lower()\n",
    "print(len(round2['company_permalink'].unique()))"
   ]
  },
  {
   "cell_type": "code",
   "execution_count": 7,
   "metadata": {},
   "outputs": [
    {
     "data": {
      "text/html": [
       "<div>\n",
       "<style scoped>\n",
       "    .dataframe tbody tr th:only-of-type {\n",
       "        vertical-align: middle;\n",
       "    }\n",
       "\n",
       "    .dataframe tbody tr th {\n",
       "        vertical-align: top;\n",
       "    }\n",
       "\n",
       "    .dataframe thead th {\n",
       "        text-align: right;\n",
       "    }\n",
       "</style>\n",
       "<table border=\"1\" class=\"dataframe\">\n",
       "  <thead>\n",
       "    <tr style=\"text-align: right;\">\n",
       "      <th></th>\n",
       "      <th>permalink</th>\n",
       "      <th>name</th>\n",
       "      <th>homepage_url</th>\n",
       "      <th>category_list</th>\n",
       "      <th>status</th>\n",
       "      <th>country_code</th>\n",
       "      <th>state_code</th>\n",
       "      <th>region</th>\n",
       "      <th>city</th>\n",
       "      <th>founded_at</th>\n",
       "    </tr>\n",
       "  </thead>\n",
       "  <tbody>\n",
       "    <tr>\n",
       "      <th>0</th>\n",
       "      <td>/Organization/-Fame</td>\n",
       "      <td>#fame</td>\n",
       "      <td>http://livfame.com</td>\n",
       "      <td>Media</td>\n",
       "      <td>operating</td>\n",
       "      <td>IND</td>\n",
       "      <td>16</td>\n",
       "      <td>Mumbai</td>\n",
       "      <td>Mumbai</td>\n",
       "      <td>NaN</td>\n",
       "    </tr>\n",
       "    <tr>\n",
       "      <th>1</th>\n",
       "      <td>/Organization/-Qounter</td>\n",
       "      <td>:Qounter</td>\n",
       "      <td>http://www.qounter.com</td>\n",
       "      <td>Application Platforms|Real Time|Social Network...</td>\n",
       "      <td>operating</td>\n",
       "      <td>USA</td>\n",
       "      <td>DE</td>\n",
       "      <td>DE - Other</td>\n",
       "      <td>Delaware City</td>\n",
       "      <td>04-09-2014</td>\n",
       "    </tr>\n",
       "    <tr>\n",
       "      <th>2</th>\n",
       "      <td>/Organization/-The-One-Of-Them-Inc-</td>\n",
       "      <td>(THE) ONE of THEM,Inc.</td>\n",
       "      <td>http://oneofthem.jp</td>\n",
       "      <td>Apps|Games|Mobile</td>\n",
       "      <td>operating</td>\n",
       "      <td>NaN</td>\n",
       "      <td>NaN</td>\n",
       "      <td>NaN</td>\n",
       "      <td>NaN</td>\n",
       "      <td>NaN</td>\n",
       "    </tr>\n",
       "    <tr>\n",
       "      <th>3</th>\n",
       "      <td>/Organization/0-6-Com</td>\n",
       "      <td>0-6.com</td>\n",
       "      <td>http://www.0-6.com</td>\n",
       "      <td>Curated Web</td>\n",
       "      <td>operating</td>\n",
       "      <td>CHN</td>\n",
       "      <td>22</td>\n",
       "      <td>Beijing</td>\n",
       "      <td>Beijing</td>\n",
       "      <td>01-01-2007</td>\n",
       "    </tr>\n",
       "    <tr>\n",
       "      <th>4</th>\n",
       "      <td>/Organization/004-Technologies</td>\n",
       "      <td>004 Technologies</td>\n",
       "      <td>http://004gmbh.de/en/004-interact</td>\n",
       "      <td>Software</td>\n",
       "      <td>operating</td>\n",
       "      <td>USA</td>\n",
       "      <td>IL</td>\n",
       "      <td>Springfield, Illinois</td>\n",
       "      <td>Champaign</td>\n",
       "      <td>01-01-2010</td>\n",
       "    </tr>\n",
       "  </tbody>\n",
       "</table>\n",
       "</div>"
      ],
      "text/plain": [
       "                             permalink                    name  \\\n",
       "0                  /Organization/-Fame                   #fame   \n",
       "1               /Organization/-Qounter                :Qounter   \n",
       "2  /Organization/-The-One-Of-Them-Inc-  (THE) ONE of THEM,Inc.   \n",
       "3                /Organization/0-6-Com                 0-6.com   \n",
       "4       /Organization/004-Technologies        004 Technologies   \n",
       "\n",
       "                        homepage_url  \\\n",
       "0                 http://livfame.com   \n",
       "1             http://www.qounter.com   \n",
       "2                http://oneofthem.jp   \n",
       "3                 http://www.0-6.com   \n",
       "4  http://004gmbh.de/en/004-interact   \n",
       "\n",
       "                                       category_list     status country_code  \\\n",
       "0                                              Media  operating          IND   \n",
       "1  Application Platforms|Real Time|Social Network...  operating          USA   \n",
       "2                                  Apps|Games|Mobile  operating          NaN   \n",
       "3                                        Curated Web  operating          CHN   \n",
       "4                                           Software  operating          USA   \n",
       "\n",
       "  state_code                 region           city  founded_at  \n",
       "0         16                 Mumbai         Mumbai         NaN  \n",
       "1         DE             DE - Other  Delaware City  04-09-2014  \n",
       "2        NaN                    NaN            NaN         NaN  \n",
       "3         22                Beijing        Beijing  01-01-2007  \n",
       "4         IL  Springfield, Illinois      Champaign  01-01-2010  "
      ]
     },
     "execution_count": 7,
     "metadata": {},
     "output_type": "execute_result"
    }
   ],
   "source": [
    "# Exploring companies dataframe\n",
    "companies.head()"
   ]
  },
  {
   "cell_type": "code",
   "execution_count": 8,
   "metadata": {},
   "outputs": [
    {
     "name": "stdout",
     "output_type": "stream",
     "text": [
      "<class 'pandas.core.frame.DataFrame'>\n",
      "RangeIndex: 66368 entries, 0 to 66367\n",
      "Data columns (total 10 columns):\n",
      " #   Column         Non-Null Count  Dtype \n",
      "---  ------         --------------  ----- \n",
      " 0   permalink      66368 non-null  object\n",
      " 1   name           66367 non-null  object\n",
      " 2   homepage_url   61310 non-null  object\n",
      " 3   category_list  63220 non-null  object\n",
      " 4   status         66368 non-null  object\n",
      " 5   country_code   59410 non-null  object\n",
      " 6   state_code     57821 non-null  object\n",
      " 7   region         58338 non-null  object\n",
      " 8   city           58340 non-null  object\n",
      " 9   founded_at     51147 non-null  object\n",
      "dtypes: object(10)\n",
      "memory usage: 5.1+ MB\n"
     ]
    }
   ],
   "source": [
    "companies.info()"
   ]
  },
  {
   "cell_type": "code",
   "execution_count": 9,
   "metadata": {},
   "outputs": [
    {
     "data": {
      "text/html": [
       "<div>\n",
       "<style scoped>\n",
       "    .dataframe tbody tr th:only-of-type {\n",
       "        vertical-align: middle;\n",
       "    }\n",
       "\n",
       "    .dataframe tbody tr th {\n",
       "        vertical-align: top;\n",
       "    }\n",
       "\n",
       "    .dataframe thead th {\n",
       "        text-align: right;\n",
       "    }\n",
       "</style>\n",
       "<table border=\"1\" class=\"dataframe\">\n",
       "  <thead>\n",
       "    <tr style=\"text-align: right;\">\n",
       "      <th></th>\n",
       "      <th>permalink</th>\n",
       "      <th>name</th>\n",
       "      <th>homepage_url</th>\n",
       "      <th>category_list</th>\n",
       "      <th>status</th>\n",
       "      <th>country_code</th>\n",
       "      <th>state_code</th>\n",
       "      <th>region</th>\n",
       "      <th>city</th>\n",
       "      <th>founded_at</th>\n",
       "    </tr>\n",
       "  </thead>\n",
       "  <tbody>\n",
       "    <tr>\n",
       "      <th>count</th>\n",
       "      <td>66368</td>\n",
       "      <td>66367</td>\n",
       "      <td>61310</td>\n",
       "      <td>63220</td>\n",
       "      <td>66368</td>\n",
       "      <td>59410</td>\n",
       "      <td>57821</td>\n",
       "      <td>58338</td>\n",
       "      <td>58340</td>\n",
       "      <td>51147</td>\n",
       "    </tr>\n",
       "    <tr>\n",
       "      <th>unique</th>\n",
       "      <td>66368</td>\n",
       "      <td>66099</td>\n",
       "      <td>61191</td>\n",
       "      <td>27296</td>\n",
       "      <td>4</td>\n",
       "      <td>137</td>\n",
       "      <td>311</td>\n",
       "      <td>1092</td>\n",
       "      <td>5111</td>\n",
       "      <td>3978</td>\n",
       "    </tr>\n",
       "    <tr>\n",
       "      <th>top</th>\n",
       "      <td>/Organization/Carolus-Therapeutics</td>\n",
       "      <td>Blink</td>\n",
       "      <td>http://www.askforoffer.com</td>\n",
       "      <td>Software</td>\n",
       "      <td>operating</td>\n",
       "      <td>USA</td>\n",
       "      <td>CA</td>\n",
       "      <td>SF Bay Area</td>\n",
       "      <td>San Francisco</td>\n",
       "      <td>01-01-2012</td>\n",
       "    </tr>\n",
       "    <tr>\n",
       "      <th>freq</th>\n",
       "      <td>1</td>\n",
       "      <td>4</td>\n",
       "      <td>5</td>\n",
       "      <td>3995</td>\n",
       "      <td>53034</td>\n",
       "      <td>37601</td>\n",
       "      <td>12900</td>\n",
       "      <td>8804</td>\n",
       "      <td>3526</td>\n",
       "      <td>2730</td>\n",
       "    </tr>\n",
       "  </tbody>\n",
       "</table>\n",
       "</div>"
      ],
      "text/plain": [
       "                                 permalink   name                homepage_url  \\\n",
       "count                                66368  66367                       61310   \n",
       "unique                               66368  66099                       61191   \n",
       "top     /Organization/Carolus-Therapeutics  Blink  http://www.askforoffer.com   \n",
       "freq                                     1      4                           5   \n",
       "\n",
       "       category_list     status country_code state_code       region  \\\n",
       "count          63220      66368        59410      57821        58338   \n",
       "unique         27296          4          137        311         1092   \n",
       "top         Software  operating          USA         CA  SF Bay Area   \n",
       "freq            3995      53034        37601      12900         8804   \n",
       "\n",
       "                 city  founded_at  \n",
       "count           58340       51147  \n",
       "unique           5111        3978  \n",
       "top     San Francisco  01-01-2012  \n",
       "freq             3526        2730  "
      ]
     },
     "execution_count": 9,
     "metadata": {},
     "output_type": "execute_result"
    }
   ],
   "source": [
    "companies.describe()"
   ]
  },
  {
   "cell_type": "code",
   "execution_count": 10,
   "metadata": {},
   "outputs": [
    {
     "name": "stdout",
     "output_type": "stream",
     "text": [
      "66368\n"
     ]
    }
   ],
   "source": [
    "# 1.2 Number of unique companies present in companies dataframe\n",
    "companies['permalink'] = companies['permalink'].str.lower()\n",
    "print(len(companies['permalink'].unique()))"
   ]
  },
  {
   "cell_type": "markdown",
   "metadata": {},
   "source": [
    "1.4 We have already calculated the number of unique companies in both files i.e. round2 and companies and there are\n",
    "two extra companies present in round2 dataset which was calculated by taking the difference between the unique number of companies in both file(66370-66368) = 2"
   ]
  },
  {
   "cell_type": "code",
   "execution_count": 12,
   "metadata": {
    "scrolled": true
   },
   "outputs": [
    {
     "name": "stdout",
     "output_type": "stream",
     "text": [
      "114942\n"
     ]
    }
   ],
   "source": [
    "# 1.5 Creating master dataframe by merging round2 and companies data frame\n",
    "\n",
    "master_frame= pd.merge(round2, companies, how=\"inner\", left_on = \"company_permalink\", right_on = \"permalink\")\n",
    "print(len(master_frame.index))"
   ]
  },
  {
   "cell_type": "code",
   "execution_count": 13,
   "metadata": {},
   "outputs": [
    {
     "data": {
      "text/html": [
       "<div>\n",
       "<style scoped>\n",
       "    .dataframe tbody tr th:only-of-type {\n",
       "        vertical-align: middle;\n",
       "    }\n",
       "\n",
       "    .dataframe tbody tr th {\n",
       "        vertical-align: top;\n",
       "    }\n",
       "\n",
       "    .dataframe thead th {\n",
       "        text-align: right;\n",
       "    }\n",
       "</style>\n",
       "<table border=\"1\" class=\"dataframe\">\n",
       "  <thead>\n",
       "    <tr style=\"text-align: right;\">\n",
       "      <th></th>\n",
       "      <th>company_permalink</th>\n",
       "      <th>funding_round_permalink</th>\n",
       "      <th>funding_round_type</th>\n",
       "      <th>funding_round_code</th>\n",
       "      <th>funded_at</th>\n",
       "      <th>raised_amount_usd</th>\n",
       "      <th>permalink</th>\n",
       "      <th>name</th>\n",
       "      <th>homepage_url</th>\n",
       "      <th>category_list</th>\n",
       "      <th>status</th>\n",
       "      <th>country_code</th>\n",
       "      <th>state_code</th>\n",
       "      <th>region</th>\n",
       "      <th>city</th>\n",
       "      <th>founded_at</th>\n",
       "    </tr>\n",
       "  </thead>\n",
       "  <tbody>\n",
       "    <tr>\n",
       "      <th>0</th>\n",
       "      <td>/organization/-fame</td>\n",
       "      <td>/funding-round/9a01d05418af9f794eebff7ace91f638</td>\n",
       "      <td>venture</td>\n",
       "      <td>B</td>\n",
       "      <td>05-01-2015</td>\n",
       "      <td>10000000.0</td>\n",
       "      <td>/organization/-fame</td>\n",
       "      <td>#fame</td>\n",
       "      <td>http://livfame.com</td>\n",
       "      <td>Media</td>\n",
       "      <td>operating</td>\n",
       "      <td>IND</td>\n",
       "      <td>16</td>\n",
       "      <td>Mumbai</td>\n",
       "      <td>Mumbai</td>\n",
       "      <td>NaN</td>\n",
       "    </tr>\n",
       "    <tr>\n",
       "      <th>1</th>\n",
       "      <td>/organization/-qounter</td>\n",
       "      <td>/funding-round/22dacff496eb7acb2b901dec1dfe5633</td>\n",
       "      <td>venture</td>\n",
       "      <td>A</td>\n",
       "      <td>14-10-2014</td>\n",
       "      <td>NaN</td>\n",
       "      <td>/organization/-qounter</td>\n",
       "      <td>:Qounter</td>\n",
       "      <td>http://www.qounter.com</td>\n",
       "      <td>Application Platforms|Real Time|Social Network...</td>\n",
       "      <td>operating</td>\n",
       "      <td>USA</td>\n",
       "      <td>DE</td>\n",
       "      <td>DE - Other</td>\n",
       "      <td>Delaware City</td>\n",
       "      <td>04-09-2014</td>\n",
       "    </tr>\n",
       "    <tr>\n",
       "      <th>2</th>\n",
       "      <td>/organization/-qounter</td>\n",
       "      <td>/funding-round/b44fbb94153f6cdef13083530bb48030</td>\n",
       "      <td>seed</td>\n",
       "      <td>NaN</td>\n",
       "      <td>01-03-2014</td>\n",
       "      <td>700000.0</td>\n",
       "      <td>/organization/-qounter</td>\n",
       "      <td>:Qounter</td>\n",
       "      <td>http://www.qounter.com</td>\n",
       "      <td>Application Platforms|Real Time|Social Network...</td>\n",
       "      <td>operating</td>\n",
       "      <td>USA</td>\n",
       "      <td>DE</td>\n",
       "      <td>DE - Other</td>\n",
       "      <td>Delaware City</td>\n",
       "      <td>04-09-2014</td>\n",
       "    </tr>\n",
       "    <tr>\n",
       "      <th>3</th>\n",
       "      <td>/organization/-the-one-of-them-inc-</td>\n",
       "      <td>/funding-round/650b8f704416801069bb178a1418776b</td>\n",
       "      <td>venture</td>\n",
       "      <td>B</td>\n",
       "      <td>30-01-2014</td>\n",
       "      <td>3406878.0</td>\n",
       "      <td>/organization/-the-one-of-them-inc-</td>\n",
       "      <td>(THE) ONE of THEM,Inc.</td>\n",
       "      <td>http://oneofthem.jp</td>\n",
       "      <td>Apps|Games|Mobile</td>\n",
       "      <td>operating</td>\n",
       "      <td>NaN</td>\n",
       "      <td>NaN</td>\n",
       "      <td>NaN</td>\n",
       "      <td>NaN</td>\n",
       "      <td>NaN</td>\n",
       "    </tr>\n",
       "    <tr>\n",
       "      <th>4</th>\n",
       "      <td>/organization/0-6-com</td>\n",
       "      <td>/funding-round/5727accaeaa57461bd22a9bdd945382d</td>\n",
       "      <td>venture</td>\n",
       "      <td>A</td>\n",
       "      <td>19-03-2008</td>\n",
       "      <td>2000000.0</td>\n",
       "      <td>/organization/0-6-com</td>\n",
       "      <td>0-6.com</td>\n",
       "      <td>http://www.0-6.com</td>\n",
       "      <td>Curated Web</td>\n",
       "      <td>operating</td>\n",
       "      <td>CHN</td>\n",
       "      <td>22</td>\n",
       "      <td>Beijing</td>\n",
       "      <td>Beijing</td>\n",
       "      <td>01-01-2007</td>\n",
       "    </tr>\n",
       "    <tr>\n",
       "      <th>5</th>\n",
       "      <td>/organization/004-technologies</td>\n",
       "      <td>/funding-round/1278dd4e6a37fa4b7d7e06c21b3c1830</td>\n",
       "      <td>venture</td>\n",
       "      <td>NaN</td>\n",
       "      <td>24-07-2014</td>\n",
       "      <td>NaN</td>\n",
       "      <td>/organization/004-technologies</td>\n",
       "      <td>004 Technologies</td>\n",
       "      <td>http://004gmbh.de/en/004-interact</td>\n",
       "      <td>Software</td>\n",
       "      <td>operating</td>\n",
       "      <td>USA</td>\n",
       "      <td>IL</td>\n",
       "      <td>Springfield, Illinois</td>\n",
       "      <td>Champaign</td>\n",
       "      <td>01-01-2010</td>\n",
       "    </tr>\n",
       "    <tr>\n",
       "      <th>6</th>\n",
       "      <td>/organization/01games-technology</td>\n",
       "      <td>/funding-round/7d53696f2b4f607a2f2a8cbb83d01839</td>\n",
       "      <td>undisclosed</td>\n",
       "      <td>NaN</td>\n",
       "      <td>01-07-2014</td>\n",
       "      <td>41250.0</td>\n",
       "      <td>/organization/01games-technology</td>\n",
       "      <td>01Games Technology</td>\n",
       "      <td>http://www.01games.hk/</td>\n",
       "      <td>Games</td>\n",
       "      <td>operating</td>\n",
       "      <td>HKG</td>\n",
       "      <td>NaN</td>\n",
       "      <td>Hong Kong</td>\n",
       "      <td>Hong Kong</td>\n",
       "      <td>NaN</td>\n",
       "    </tr>\n",
       "    <tr>\n",
       "      <th>7</th>\n",
       "      <td>/organization/0ndine-biomedical-inc</td>\n",
       "      <td>/funding-round/2b9d3ac293d5cdccbecff5c8cb0f327d</td>\n",
       "      <td>seed</td>\n",
       "      <td>NaN</td>\n",
       "      <td>11-09-2009</td>\n",
       "      <td>43360.0</td>\n",
       "      <td>/organization/0ndine-biomedical-inc</td>\n",
       "      <td>Ondine Biomedical Inc.</td>\n",
       "      <td>http://ondinebio.com</td>\n",
       "      <td>Biotechnology</td>\n",
       "      <td>operating</td>\n",
       "      <td>CAN</td>\n",
       "      <td>BC</td>\n",
       "      <td>Vancouver</td>\n",
       "      <td>Vancouver</td>\n",
       "      <td>01-01-1997</td>\n",
       "    </tr>\n",
       "    <tr>\n",
       "      <th>8</th>\n",
       "      <td>/organization/0ndine-biomedical-inc</td>\n",
       "      <td>/funding-round/954b9499724b946ad8c396a57a5f3b72</td>\n",
       "      <td>venture</td>\n",
       "      <td>NaN</td>\n",
       "      <td>21-12-2009</td>\n",
       "      <td>719491.0</td>\n",
       "      <td>/organization/0ndine-biomedical-inc</td>\n",
       "      <td>Ondine Biomedical Inc.</td>\n",
       "      <td>http://ondinebio.com</td>\n",
       "      <td>Biotechnology</td>\n",
       "      <td>operating</td>\n",
       "      <td>CAN</td>\n",
       "      <td>BC</td>\n",
       "      <td>Vancouver</td>\n",
       "      <td>Vancouver</td>\n",
       "      <td>01-01-1997</td>\n",
       "    </tr>\n",
       "    <tr>\n",
       "      <th>9</th>\n",
       "      <td>/organization/0xdata</td>\n",
       "      <td>/funding-round/383a9bd2c04f7038bb543ccef5ba3eae</td>\n",
       "      <td>seed</td>\n",
       "      <td>NaN</td>\n",
       "      <td>22-05-2013</td>\n",
       "      <td>3000000.0</td>\n",
       "      <td>/organization/0xdata</td>\n",
       "      <td>H2O.ai</td>\n",
       "      <td>http://h2o.ai/</td>\n",
       "      <td>Analytics</td>\n",
       "      <td>operating</td>\n",
       "      <td>USA</td>\n",
       "      <td>CA</td>\n",
       "      <td>SF Bay Area</td>\n",
       "      <td>Mountain View</td>\n",
       "      <td>01-01-2011</td>\n",
       "    </tr>\n",
       "  </tbody>\n",
       "</table>\n",
       "</div>"
      ],
      "text/plain": [
       "                     company_permalink  \\\n",
       "0                  /organization/-fame   \n",
       "1               /organization/-qounter   \n",
       "2               /organization/-qounter   \n",
       "3  /organization/-the-one-of-them-inc-   \n",
       "4                /organization/0-6-com   \n",
       "5       /organization/004-technologies   \n",
       "6     /organization/01games-technology   \n",
       "7  /organization/0ndine-biomedical-inc   \n",
       "8  /organization/0ndine-biomedical-inc   \n",
       "9                 /organization/0xdata   \n",
       "\n",
       "                           funding_round_permalink funding_round_type  \\\n",
       "0  /funding-round/9a01d05418af9f794eebff7ace91f638            venture   \n",
       "1  /funding-round/22dacff496eb7acb2b901dec1dfe5633            venture   \n",
       "2  /funding-round/b44fbb94153f6cdef13083530bb48030               seed   \n",
       "3  /funding-round/650b8f704416801069bb178a1418776b            venture   \n",
       "4  /funding-round/5727accaeaa57461bd22a9bdd945382d            venture   \n",
       "5  /funding-round/1278dd4e6a37fa4b7d7e06c21b3c1830            venture   \n",
       "6  /funding-round/7d53696f2b4f607a2f2a8cbb83d01839        undisclosed   \n",
       "7  /funding-round/2b9d3ac293d5cdccbecff5c8cb0f327d               seed   \n",
       "8  /funding-round/954b9499724b946ad8c396a57a5f3b72            venture   \n",
       "9  /funding-round/383a9bd2c04f7038bb543ccef5ba3eae               seed   \n",
       "\n",
       "  funding_round_code   funded_at  raised_amount_usd  \\\n",
       "0                  B  05-01-2015         10000000.0   \n",
       "1                  A  14-10-2014                NaN   \n",
       "2                NaN  01-03-2014           700000.0   \n",
       "3                  B  30-01-2014          3406878.0   \n",
       "4                  A  19-03-2008          2000000.0   \n",
       "5                NaN  24-07-2014                NaN   \n",
       "6                NaN  01-07-2014            41250.0   \n",
       "7                NaN  11-09-2009            43360.0   \n",
       "8                NaN  21-12-2009           719491.0   \n",
       "9                NaN  22-05-2013          3000000.0   \n",
       "\n",
       "                             permalink                    name  \\\n",
       "0                  /organization/-fame                   #fame   \n",
       "1               /organization/-qounter                :Qounter   \n",
       "2               /organization/-qounter                :Qounter   \n",
       "3  /organization/-the-one-of-them-inc-  (THE) ONE of THEM,Inc.   \n",
       "4                /organization/0-6-com                 0-6.com   \n",
       "5       /organization/004-technologies        004 Technologies   \n",
       "6     /organization/01games-technology      01Games Technology   \n",
       "7  /organization/0ndine-biomedical-inc  Ondine Biomedical Inc.   \n",
       "8  /organization/0ndine-biomedical-inc  Ondine Biomedical Inc.   \n",
       "9                 /organization/0xdata                  H2O.ai   \n",
       "\n",
       "                        homepage_url  \\\n",
       "0                 http://livfame.com   \n",
       "1             http://www.qounter.com   \n",
       "2             http://www.qounter.com   \n",
       "3                http://oneofthem.jp   \n",
       "4                 http://www.0-6.com   \n",
       "5  http://004gmbh.de/en/004-interact   \n",
       "6             http://www.01games.hk/   \n",
       "7               http://ondinebio.com   \n",
       "8               http://ondinebio.com   \n",
       "9                     http://h2o.ai/   \n",
       "\n",
       "                                       category_list     status country_code  \\\n",
       "0                                              Media  operating          IND   \n",
       "1  Application Platforms|Real Time|Social Network...  operating          USA   \n",
       "2  Application Platforms|Real Time|Social Network...  operating          USA   \n",
       "3                                  Apps|Games|Mobile  operating          NaN   \n",
       "4                                        Curated Web  operating          CHN   \n",
       "5                                           Software  operating          USA   \n",
       "6                                              Games  operating          HKG   \n",
       "7                                      Biotechnology  operating          CAN   \n",
       "8                                      Biotechnology  operating          CAN   \n",
       "9                                          Analytics  operating          USA   \n",
       "\n",
       "  state_code                 region           city  founded_at  \n",
       "0         16                 Mumbai         Mumbai         NaN  \n",
       "1         DE             DE - Other  Delaware City  04-09-2014  \n",
       "2         DE             DE - Other  Delaware City  04-09-2014  \n",
       "3        NaN                    NaN            NaN         NaN  \n",
       "4         22                Beijing        Beijing  01-01-2007  \n",
       "5         IL  Springfield, Illinois      Champaign  01-01-2010  \n",
       "6        NaN              Hong Kong      Hong Kong         NaN  \n",
       "7         BC              Vancouver      Vancouver  01-01-1997  \n",
       "8         BC              Vancouver      Vancouver  01-01-1997  \n",
       "9         CA            SF Bay Area  Mountain View  01-01-2011  "
      ]
     },
     "execution_count": 13,
     "metadata": {},
     "output_type": "execute_result"
    }
   ],
   "source": [
    "# Exploring master_frame \n",
    "master_frame.head(10)"
   ]
  },
  {
   "cell_type": "code",
   "execution_count": 14,
   "metadata": {},
   "outputs": [
    {
     "name": "stdout",
     "output_type": "stream",
     "text": [
      "<class 'pandas.core.frame.DataFrame'>\n",
      "Int64Index: 114942 entries, 0 to 114941\n",
      "Data columns (total 16 columns):\n",
      " #   Column                   Non-Null Count   Dtype  \n",
      "---  ------                   --------------   -----  \n",
      " 0   company_permalink        114942 non-null  object \n",
      " 1   funding_round_permalink  114942 non-null  object \n",
      " 2   funding_round_type       114942 non-null  object \n",
      " 3   funding_round_code       31139 non-null   object \n",
      " 4   funded_at                114942 non-null  object \n",
      " 5   raised_amount_usd        94958 non-null   float64\n",
      " 6   permalink                114942 non-null  object \n",
      " 7   name                     114941 non-null  object \n",
      " 8   homepage_url             108810 non-null  object \n",
      " 9   category_list            111535 non-null  object \n",
      " 10  status                   114942 non-null  object \n",
      " 11  country_code             106271 non-null  object \n",
      " 12  state_code               104003 non-null  object \n",
      " 13  region                   104782 non-null  object \n",
      " 14  city                     104785 non-null  object \n",
      " 15  founded_at               94422 non-null   object \n",
      "dtypes: float64(1), object(15)\n",
      "memory usage: 14.9+ MB\n"
     ]
    }
   ],
   "source": [
    "master_frame.info()"
   ]
  },
  {
   "cell_type": "code",
   "execution_count": 15,
   "metadata": {},
   "outputs": [
    {
     "data": {
      "text/html": [
       "<div>\n",
       "<style scoped>\n",
       "    .dataframe tbody tr th:only-of-type {\n",
       "        vertical-align: middle;\n",
       "    }\n",
       "\n",
       "    .dataframe tbody tr th {\n",
       "        vertical-align: top;\n",
       "    }\n",
       "\n",
       "    .dataframe thead th {\n",
       "        text-align: right;\n",
       "    }\n",
       "</style>\n",
       "<table border=\"1\" class=\"dataframe\">\n",
       "  <thead>\n",
       "    <tr style=\"text-align: right;\">\n",
       "      <th></th>\n",
       "      <th>company_permalink</th>\n",
       "      <th>funding_round_permalink</th>\n",
       "      <th>funding_round_type</th>\n",
       "      <th>funding_round_code</th>\n",
       "      <th>funded_at</th>\n",
       "      <th>raised_amount_usd</th>\n",
       "      <th>permalink</th>\n",
       "      <th>name</th>\n",
       "      <th>homepage_url</th>\n",
       "      <th>category_list</th>\n",
       "      <th>status</th>\n",
       "      <th>country_code</th>\n",
       "      <th>state_code</th>\n",
       "      <th>region</th>\n",
       "      <th>city</th>\n",
       "      <th>founded_at</th>\n",
       "    </tr>\n",
       "  </thead>\n",
       "  <tbody>\n",
       "    <tr>\n",
       "      <th>count</th>\n",
       "      <td>114942</td>\n",
       "      <td>114942</td>\n",
       "      <td>114942</td>\n",
       "      <td>31139</td>\n",
       "      <td>114942</td>\n",
       "      <td>9.495800e+04</td>\n",
       "      <td>114942</td>\n",
       "      <td>114941</td>\n",
       "      <td>108810</td>\n",
       "      <td>111535</td>\n",
       "      <td>114942</td>\n",
       "      <td>106271</td>\n",
       "      <td>104003</td>\n",
       "      <td>104782</td>\n",
       "      <td>104785</td>\n",
       "      <td>94422</td>\n",
       "    </tr>\n",
       "    <tr>\n",
       "      <th>unique</th>\n",
       "      <td>66363</td>\n",
       "      <td>114942</td>\n",
       "      <td>14</td>\n",
       "      <td>8</td>\n",
       "      <td>5033</td>\n",
       "      <td>NaN</td>\n",
       "      <td>66363</td>\n",
       "      <td>66094</td>\n",
       "      <td>61188</td>\n",
       "      <td>27295</td>\n",
       "      <td>4</td>\n",
       "      <td>137</td>\n",
       "      <td>311</td>\n",
       "      <td>1092</td>\n",
       "      <td>5111</td>\n",
       "      <td>3977</td>\n",
       "    </tr>\n",
       "    <tr>\n",
       "      <th>top</th>\n",
       "      <td>/organization/solarflare</td>\n",
       "      <td>/funding-round/b62e2d36cb07afdc3c2e7b980828b340</td>\n",
       "      <td>venture</td>\n",
       "      <td>A</td>\n",
       "      <td>01-01-2014</td>\n",
       "      <td>NaN</td>\n",
       "      <td>/organization/solarflare</td>\n",
       "      <td>Solarflare Communications</td>\n",
       "      <td>http://www.solarflare.com</td>\n",
       "      <td>Biotechnology</td>\n",
       "      <td>operating</td>\n",
       "      <td>USA</td>\n",
       "      <td>CA</td>\n",
       "      <td>SF Bay Area</td>\n",
       "      <td>San Francisco</td>\n",
       "      <td>01-01-2012</td>\n",
       "    </tr>\n",
       "    <tr>\n",
       "      <th>freq</th>\n",
       "      <td>19</td>\n",
       "      <td>1</td>\n",
       "      <td>55493</td>\n",
       "      <td>14746</td>\n",
       "      <td>779</td>\n",
       "      <td>NaN</td>\n",
       "      <td>19</td>\n",
       "      <td>19</td>\n",
       "      <td>19</td>\n",
       "      <td>8165</td>\n",
       "      <td>90151</td>\n",
       "      <td>72308</td>\n",
       "      <td>26664</td>\n",
       "      <td>19078</td>\n",
       "      <td>7422</td>\n",
       "      <td>4642</td>\n",
       "    </tr>\n",
       "    <tr>\n",
       "      <th>mean</th>\n",
       "      <td>NaN</td>\n",
       "      <td>NaN</td>\n",
       "      <td>NaN</td>\n",
       "      <td>NaN</td>\n",
       "      <td>NaN</td>\n",
       "      <td>1.042696e+07</td>\n",
       "      <td>NaN</td>\n",
       "      <td>NaN</td>\n",
       "      <td>NaN</td>\n",
       "      <td>NaN</td>\n",
       "      <td>NaN</td>\n",
       "      <td>NaN</td>\n",
       "      <td>NaN</td>\n",
       "      <td>NaN</td>\n",
       "      <td>NaN</td>\n",
       "      <td>NaN</td>\n",
       "    </tr>\n",
       "    <tr>\n",
       "      <th>std</th>\n",
       "      <td>NaN</td>\n",
       "      <td>NaN</td>\n",
       "      <td>NaN</td>\n",
       "      <td>NaN</td>\n",
       "      <td>NaN</td>\n",
       "      <td>1.148218e+08</td>\n",
       "      <td>NaN</td>\n",
       "      <td>NaN</td>\n",
       "      <td>NaN</td>\n",
       "      <td>NaN</td>\n",
       "      <td>NaN</td>\n",
       "      <td>NaN</td>\n",
       "      <td>NaN</td>\n",
       "      <td>NaN</td>\n",
       "      <td>NaN</td>\n",
       "      <td>NaN</td>\n",
       "    </tr>\n",
       "    <tr>\n",
       "      <th>min</th>\n",
       "      <td>NaN</td>\n",
       "      <td>NaN</td>\n",
       "      <td>NaN</td>\n",
       "      <td>NaN</td>\n",
       "      <td>NaN</td>\n",
       "      <td>0.000000e+00</td>\n",
       "      <td>NaN</td>\n",
       "      <td>NaN</td>\n",
       "      <td>NaN</td>\n",
       "      <td>NaN</td>\n",
       "      <td>NaN</td>\n",
       "      <td>NaN</td>\n",
       "      <td>NaN</td>\n",
       "      <td>NaN</td>\n",
       "      <td>NaN</td>\n",
       "      <td>NaN</td>\n",
       "    </tr>\n",
       "    <tr>\n",
       "      <th>25%</th>\n",
       "      <td>NaN</td>\n",
       "      <td>NaN</td>\n",
       "      <td>NaN</td>\n",
       "      <td>NaN</td>\n",
       "      <td>NaN</td>\n",
       "      <td>3.225000e+05</td>\n",
       "      <td>NaN</td>\n",
       "      <td>NaN</td>\n",
       "      <td>NaN</td>\n",
       "      <td>NaN</td>\n",
       "      <td>NaN</td>\n",
       "      <td>NaN</td>\n",
       "      <td>NaN</td>\n",
       "      <td>NaN</td>\n",
       "      <td>NaN</td>\n",
       "      <td>NaN</td>\n",
       "    </tr>\n",
       "    <tr>\n",
       "      <th>50%</th>\n",
       "      <td>NaN</td>\n",
       "      <td>NaN</td>\n",
       "      <td>NaN</td>\n",
       "      <td>NaN</td>\n",
       "      <td>NaN</td>\n",
       "      <td>1.680521e+06</td>\n",
       "      <td>NaN</td>\n",
       "      <td>NaN</td>\n",
       "      <td>NaN</td>\n",
       "      <td>NaN</td>\n",
       "      <td>NaN</td>\n",
       "      <td>NaN</td>\n",
       "      <td>NaN</td>\n",
       "      <td>NaN</td>\n",
       "      <td>NaN</td>\n",
       "      <td>NaN</td>\n",
       "    </tr>\n",
       "    <tr>\n",
       "      <th>75%</th>\n",
       "      <td>NaN</td>\n",
       "      <td>NaN</td>\n",
       "      <td>NaN</td>\n",
       "      <td>NaN</td>\n",
       "      <td>NaN</td>\n",
       "      <td>7.000000e+06</td>\n",
       "      <td>NaN</td>\n",
       "      <td>NaN</td>\n",
       "      <td>NaN</td>\n",
       "      <td>NaN</td>\n",
       "      <td>NaN</td>\n",
       "      <td>NaN</td>\n",
       "      <td>NaN</td>\n",
       "      <td>NaN</td>\n",
       "      <td>NaN</td>\n",
       "      <td>NaN</td>\n",
       "    </tr>\n",
       "    <tr>\n",
       "      <th>max</th>\n",
       "      <td>NaN</td>\n",
       "      <td>NaN</td>\n",
       "      <td>NaN</td>\n",
       "      <td>NaN</td>\n",
       "      <td>NaN</td>\n",
       "      <td>2.127194e+10</td>\n",
       "      <td>NaN</td>\n",
       "      <td>NaN</td>\n",
       "      <td>NaN</td>\n",
       "      <td>NaN</td>\n",
       "      <td>NaN</td>\n",
       "      <td>NaN</td>\n",
       "      <td>NaN</td>\n",
       "      <td>NaN</td>\n",
       "      <td>NaN</td>\n",
       "      <td>NaN</td>\n",
       "    </tr>\n",
       "  </tbody>\n",
       "</table>\n",
       "</div>"
      ],
      "text/plain": [
       "               company_permalink  \\\n",
       "count                     114942   \n",
       "unique                     66363   \n",
       "top     /organization/solarflare   \n",
       "freq                          19   \n",
       "mean                         NaN   \n",
       "std                          NaN   \n",
       "min                          NaN   \n",
       "25%                          NaN   \n",
       "50%                          NaN   \n",
       "75%                          NaN   \n",
       "max                          NaN   \n",
       "\n",
       "                                funding_round_permalink funding_round_type  \\\n",
       "count                                            114942             114942   \n",
       "unique                                           114942                 14   \n",
       "top     /funding-round/b62e2d36cb07afdc3c2e7b980828b340            venture   \n",
       "freq                                                  1              55493   \n",
       "mean                                                NaN                NaN   \n",
       "std                                                 NaN                NaN   \n",
       "min                                                 NaN                NaN   \n",
       "25%                                                 NaN                NaN   \n",
       "50%                                                 NaN                NaN   \n",
       "75%                                                 NaN                NaN   \n",
       "max                                                 NaN                NaN   \n",
       "\n",
       "       funding_round_code   funded_at  raised_amount_usd  \\\n",
       "count               31139      114942       9.495800e+04   \n",
       "unique                  8        5033                NaN   \n",
       "top                     A  01-01-2014                NaN   \n",
       "freq                14746         779                NaN   \n",
       "mean                  NaN         NaN       1.042696e+07   \n",
       "std                   NaN         NaN       1.148218e+08   \n",
       "min                   NaN         NaN       0.000000e+00   \n",
       "25%                   NaN         NaN       3.225000e+05   \n",
       "50%                   NaN         NaN       1.680521e+06   \n",
       "75%                   NaN         NaN       7.000000e+06   \n",
       "max                   NaN         NaN       2.127194e+10   \n",
       "\n",
       "                       permalink                       name  \\\n",
       "count                     114942                     114941   \n",
       "unique                     66363                      66094   \n",
       "top     /organization/solarflare  Solarflare Communications   \n",
       "freq                          19                         19   \n",
       "mean                         NaN                        NaN   \n",
       "std                          NaN                        NaN   \n",
       "min                          NaN                        NaN   \n",
       "25%                          NaN                        NaN   \n",
       "50%                          NaN                        NaN   \n",
       "75%                          NaN                        NaN   \n",
       "max                          NaN                        NaN   \n",
       "\n",
       "                     homepage_url  category_list     status country_code  \\\n",
       "count                      108810         111535     114942       106271   \n",
       "unique                      61188          27295          4          137   \n",
       "top     http://www.solarflare.com  Biotechnology  operating          USA   \n",
       "freq                           19           8165      90151        72308   \n",
       "mean                          NaN            NaN        NaN          NaN   \n",
       "std                           NaN            NaN        NaN          NaN   \n",
       "min                           NaN            NaN        NaN          NaN   \n",
       "25%                           NaN            NaN        NaN          NaN   \n",
       "50%                           NaN            NaN        NaN          NaN   \n",
       "75%                           NaN            NaN        NaN          NaN   \n",
       "max                           NaN            NaN        NaN          NaN   \n",
       "\n",
       "       state_code       region           city  founded_at  \n",
       "count      104003       104782         104785       94422  \n",
       "unique        311         1092           5111        3977  \n",
       "top            CA  SF Bay Area  San Francisco  01-01-2012  \n",
       "freq        26664        19078           7422        4642  \n",
       "mean          NaN          NaN            NaN         NaN  \n",
       "std           NaN          NaN            NaN         NaN  \n",
       "min           NaN          NaN            NaN         NaN  \n",
       "25%           NaN          NaN            NaN         NaN  \n",
       "50%           NaN          NaN            NaN         NaN  \n",
       "75%           NaN          NaN            NaN         NaN  \n",
       "max           NaN          NaN            NaN         NaN  "
      ]
     },
     "execution_count": 15,
     "metadata": {},
     "output_type": "execute_result"
    }
   ],
   "source": [
    "master_frame.describe(include=\"all\")"
   ]
  },
  {
   "cell_type": "code",
   "execution_count": 16,
   "metadata": {},
   "outputs": [
    {
     "data": {
      "text/plain": [
       "company_permalink              0\n",
       "funding_round_permalink        0\n",
       "funding_round_type             0\n",
       "funding_round_code         83803\n",
       "funded_at                      0\n",
       "raised_amount_usd          19984\n",
       "permalink                      0\n",
       "name                           1\n",
       "homepage_url                6132\n",
       "category_list               3407\n",
       "status                         0\n",
       "country_code                8671\n",
       "state_code                 10939\n",
       "region                     10160\n",
       "city                       10157\n",
       "founded_at                 20520\n",
       "dtype: int64"
      ]
     },
     "execution_count": 16,
     "metadata": {},
     "output_type": "execute_result"
    }
   ],
   "source": [
    "# Cleaning of master dataframe\n",
    "\n",
    "# Inspecting null values\n",
    "master_frame.isnull().sum()"
   ]
  },
  {
   "cell_type": "code",
   "execution_count": 17,
   "metadata": {},
   "outputs": [
    {
     "name": "stdout",
     "output_type": "stream",
     "text": [
      "company_permalink           0.00\n",
      "funding_round_permalink     0.00\n",
      "funding_round_type          0.00\n",
      "funding_round_code         72.91\n",
      "funded_at                   0.00\n",
      "raised_amount_usd          17.39\n",
      "permalink                   0.00\n",
      "name                        0.00\n",
      "homepage_url                5.33\n",
      "category_list               2.96\n",
      "status                      0.00\n",
      "country_code                7.54\n",
      "state_code                  9.52\n",
      "region                      8.84\n",
      "city                        8.84\n",
      "founded_at                 17.85\n",
      "dtype: float64\n"
     ]
    }
   ],
   "source": [
    "# Finding the percentage of null values in master data frame\n",
    "print(round((master_frame.isnull().sum()/len(master_frame.index))*100, 2))"
   ]
  },
  {
   "cell_type": "code",
   "execution_count": 18,
   "metadata": {},
   "outputs": [],
   "source": [
    "# Dropping columns which are not required to perform analysis\n",
    "\n",
    "master_frame = master_frame.drop(['funding_round_code','permalink', 'homepage_url',\n",
    "                                  'state_code', 'region', 'city', 'founded_at'], axis=1)"
   ]
  },
  {
   "cell_type": "code",
   "execution_count": 19,
   "metadata": {},
   "outputs": [],
   "source": [
    "# We need to remove the rows with NaN values from raised_amount_usd to provide relevant results during analysis\n",
    "master_frame = master_frame[~np.isnan(master_frame['raised_amount_usd'])]"
   ]
  },
  {
   "cell_type": "code",
   "execution_count": 20,
   "metadata": {},
   "outputs": [
    {
     "name": "stdout",
     "output_type": "stream",
     "text": [
      "company_permalink          0.00\n",
      "funding_round_permalink    0.00\n",
      "funding_round_type         0.00\n",
      "funded_at                  0.00\n",
      "raised_amount_usd          0.00\n",
      "name                       0.00\n",
      "category_list              1.10\n",
      "status                     0.00\n",
      "country_code               6.16\n",
      "dtype: float64\n"
     ]
    }
   ],
   "source": [
    "#Re-checking the null value percentage post deletion of rows\n",
    "print(round((master_frame.isnull().sum()/len(master_frame.index))*100, 2))"
   ]
  },
  {
   "cell_type": "code",
   "execution_count": 21,
   "metadata": {},
   "outputs": [
    {
     "name": "stdout",
     "output_type": "stream",
     "text": [
      "company_permalink          0.0\n",
      "funding_round_permalink    0.0\n",
      "funding_round_type         0.0\n",
      "funded_at                  0.0\n",
      "raised_amount_usd          0.0\n",
      "name                       0.0\n",
      "category_list              0.0\n",
      "status                     0.0\n",
      "country_code               0.0\n",
      "dtype: float64\n"
     ]
    }
   ],
   "source": [
    "# Imputing NaNs in country_code and category_list with Unspecified (UNS)\n",
    "master_frame['country_code'] = master_frame['country_code'].fillna('UNS')\n",
    "master_frame['category_list'] = master_frame['category_list'].fillna('Unspecified')\n",
    "print(round((master_frame.isnull().sum()/len(master_frame.index))*100, 2))"
   ]
  },
  {
   "cell_type": "code",
   "execution_count": 22,
   "metadata": {},
   "outputs": [
    {
     "name": "stdout",
     "output_type": "stream",
     "text": [
      "82.60880912404632\n"
     ]
    }
   ],
   "source": [
    "# Percentage of retained rows\n",
    "print(100*(len(master_frame.index)/114949))"
   ]
  },
  {
   "cell_type": "code",
   "execution_count": 23,
   "metadata": {},
   "outputs": [
    {
     "data": {
      "text/plain": [
       "(94958, 9)"
      ]
     },
     "execution_count": 23,
     "metadata": {},
     "output_type": "execute_result"
    }
   ],
   "source": [
    "master_frame.shape"
   ]
  },
  {
   "cell_type": "markdown",
   "metadata": {},
   "source": [
    "# Funding Type Analysis"
   ]
  },
  {
   "cell_type": "code",
   "execution_count": 25,
   "metadata": {},
   "outputs": [],
   "source": [
    "# Taking venture, angel, seed and private equity from funding_round_type column\n",
    "master_frame=master_frame[master_frame['funding_round_type'].isin(['venture','angel','seed','private_equity'])]"
   ]
  },
  {
   "cell_type": "code",
   "execution_count": 26,
   "metadata": {},
   "outputs": [
    {
     "data": {
      "text/plain": [
       "funding_round_type\n",
       "private_equity    73308593.03\n",
       "venture           11748949.13\n",
       "angel               958694.47\n",
       "seed                719779.62\n",
       "Name: raised_amount_usd, dtype: float64"
      ]
     },
     "execution_count": 26,
     "metadata": {},
     "output_type": "execute_result"
    }
   ],
   "source": [
    "# Finding the averages of raised amount by each funding type\n",
    "round(master_frame.groupby('funding_round_type')['raised_amount_usd'].mean().sort_values(ascending=False),2)"
   ]
  },
  {
   "cell_type": "markdown",
   "metadata": {},
   "source": [
    "Sparks Fund wants to invest between 5 to 15 million USD and clearly 'Venture' funding type satisfy this constraint."
   ]
  },
  {
   "cell_type": "code",
   "execution_count": 154,
   "metadata": {},
   "outputs": [
    {
     "data": {
      "text/plain": [
       "count       50228\n",
       "unique          1\n",
       "top       venture\n",
       "freq        50228\n",
       "Name: funding_round_type, dtype: object"
      ]
     },
     "execution_count": 154,
     "metadata": {},
     "output_type": "execute_result"
    }
   ],
   "source": [
    "# From now on we are considering funding type as 'venture'\n",
    "master_frame_vf = master_frame[master_frame[\"funding_round_type\"]==\"venture\"]\n",
    "master_frame_vf['funding_round_type'].describe()"
   ]
  },
  {
   "cell_type": "code",
   "execution_count": 155,
   "metadata": {},
   "outputs": [
    {
     "data": {
      "text/plain": [
       "(50228, 9)"
      ]
     },
     "execution_count": 155,
     "metadata": {},
     "output_type": "execute_result"
    }
   ],
   "source": [
    "master_frame_vf.shape"
   ]
  },
  {
   "cell_type": "markdown",
   "metadata": {},
   "source": [
    "# Country Type Analysis"
   ]
  },
  {
   "cell_type": "code",
   "execution_count": 156,
   "metadata": {},
   "outputs": [
    {
     "data": {
      "text/plain": [
       "country_code\n",
       "USA    4.225108e+11\n",
       "CHN    3.983542e+10\n",
       "UNS    2.550611e+10\n",
       "GBR    2.024563e+10\n",
       "IND    1.439186e+10\n",
       "CAN    9.583332e+09\n",
       "FRA    7.259537e+09\n",
       "ISR    6.907515e+09\n",
       "DEU    6.346960e+09\n",
       "JPN    3.363677e+09\n",
       "SWE    3.254953e+09\n",
       "NLD    2.939404e+09\n",
       "CHE    2.827560e+09\n",
       "SGP    2.793918e+09\n",
       "ESP    1.835831e+09\n",
       "Name: raised_amount_usd, dtype: float64"
      ]
     },
     "execution_count": 156,
     "metadata": {},
     "output_type": "execute_result"
    }
   ],
   "source": [
    "# Top 15 countries with highest funding\n",
    "master_frame_vf.groupby('country_code')['raised_amount_usd'].sum().sort_values(ascending=False).head(15)"
   ]
  },
  {
   "cell_type": "code",
   "execution_count": 157,
   "metadata": {},
   "outputs": [
    {
     "data": {
      "text/plain": [
       "country_code\n",
       "USA    4.225108e+11\n",
       "CHN    3.983542e+10\n",
       "GBR    2.024563e+10\n",
       "IND    1.439186e+10\n",
       "CAN    9.583332e+09\n",
       "FRA    7.259537e+09\n",
       "ISR    6.907515e+09\n",
       "DEU    6.346960e+09\n",
       "JPN    3.363677e+09\n",
       "Name: raised_amount_usd, dtype: float64"
      ]
     },
     "execution_count": 157,
     "metadata": {},
     "output_type": "execute_result"
    }
   ],
   "source": [
    "# Selecting top 9 countries with highest funding excluding UNS(Unspecified)\n",
    "top9 = master_frame_vf[master_frame_vf['country_code'].isin(['USA', 'CHN','GBR', 'IND', 'CAN', 'FRA', 'ISR', 'DEU', 'JPN' ])]\n",
    "top9.groupby('country_code')['raised_amount_usd'].sum().sort_values(ascending=False)"
   ]
  },
  {
   "cell_type": "code",
   "execution_count": 32,
   "metadata": {},
   "outputs": [],
   "source": [
    "# As per the document provided, the top three english speaking countries as per the amount raised are USA, GBR and IND"
   ]
  },
  {
   "cell_type": "code",
   "execution_count": 33,
   "metadata": {},
   "outputs": [
    {
     "data": {
      "text/plain": [
       "(44383, 9)"
      ]
     },
     "execution_count": 33,
     "metadata": {},
     "output_type": "execute_result"
    }
   ],
   "source": [
    "top9.shape"
   ]
  },
  {
   "cell_type": "code",
   "execution_count": 35,
   "metadata": {},
   "outputs": [],
   "source": [
    "# Spliting data with | in category_list and storing it to primary_sector\n",
    "top9['primary_sector'] =top9['category_list'].astype(str).apply(lambda x: x.split('|')[0])"
   ]
  },
  {
   "cell_type": "code",
   "execution_count": 36,
   "metadata": {},
   "outputs": [
    {
     "data": {
      "text/plain": [
       "(44383, 10)"
      ]
     },
     "execution_count": 36,
     "metadata": {},
     "output_type": "execute_result"
    }
   ],
   "source": [
    "top9.shape"
   ]
  },
  {
   "cell_type": "code",
   "execution_count": 37,
   "metadata": {},
   "outputs": [
    {
     "data": {
      "text/html": [
       "<div>\n",
       "<style scoped>\n",
       "    .dataframe tbody tr th:only-of-type {\n",
       "        vertical-align: middle;\n",
       "    }\n",
       "\n",
       "    .dataframe tbody tr th {\n",
       "        vertical-align: top;\n",
       "    }\n",
       "\n",
       "    .dataframe thead th {\n",
       "        text-align: right;\n",
       "    }\n",
       "</style>\n",
       "<table border=\"1\" class=\"dataframe\">\n",
       "  <thead>\n",
       "    <tr style=\"text-align: right;\">\n",
       "      <th></th>\n",
       "      <th>company_permalink</th>\n",
       "      <th>funding_round_permalink</th>\n",
       "      <th>funding_round_type</th>\n",
       "      <th>funded_at</th>\n",
       "      <th>raised_amount_usd</th>\n",
       "      <th>name</th>\n",
       "      <th>category_list</th>\n",
       "      <th>status</th>\n",
       "      <th>country_code</th>\n",
       "      <th>primary_sector</th>\n",
       "    </tr>\n",
       "  </thead>\n",
       "  <tbody>\n",
       "    <tr>\n",
       "      <th>0</th>\n",
       "      <td>/organization/-fame</td>\n",
       "      <td>/funding-round/9a01d05418af9f794eebff7ace91f638</td>\n",
       "      <td>venture</td>\n",
       "      <td>05-01-2015</td>\n",
       "      <td>10000000.0</td>\n",
       "      <td>#fame</td>\n",
       "      <td>Media</td>\n",
       "      <td>operating</td>\n",
       "      <td>IND</td>\n",
       "      <td>Media</td>\n",
       "    </tr>\n",
       "    <tr>\n",
       "      <th>4</th>\n",
       "      <td>/organization/0-6-com</td>\n",
       "      <td>/funding-round/5727accaeaa57461bd22a9bdd945382d</td>\n",
       "      <td>venture</td>\n",
       "      <td>19-03-2008</td>\n",
       "      <td>2000000.0</td>\n",
       "      <td>0-6.com</td>\n",
       "      <td>Curated Web</td>\n",
       "      <td>operating</td>\n",
       "      <td>CHN</td>\n",
       "      <td>Curated Web</td>\n",
       "    </tr>\n",
       "    <tr>\n",
       "      <th>8</th>\n",
       "      <td>/organization/0ndine-biomedical-inc</td>\n",
       "      <td>/funding-round/954b9499724b946ad8c396a57a5f3b72</td>\n",
       "      <td>venture</td>\n",
       "      <td>21-12-2009</td>\n",
       "      <td>719491.0</td>\n",
       "      <td>Ondine Biomedical Inc.</td>\n",
       "      <td>Biotechnology</td>\n",
       "      <td>operating</td>\n",
       "      <td>CAN</td>\n",
       "      <td>Biotechnology</td>\n",
       "    </tr>\n",
       "    <tr>\n",
       "      <th>10</th>\n",
       "      <td>/organization/0xdata</td>\n",
       "      <td>/funding-round/3bb2ee4a2d89251a10aaa735b1180e44</td>\n",
       "      <td>venture</td>\n",
       "      <td>09-11-2015</td>\n",
       "      <td>20000000.0</td>\n",
       "      <td>H2O.ai</td>\n",
       "      <td>Analytics</td>\n",
       "      <td>operating</td>\n",
       "      <td>USA</td>\n",
       "      <td>Analytics</td>\n",
       "    </tr>\n",
       "    <tr>\n",
       "      <th>11</th>\n",
       "      <td>/organization/0xdata</td>\n",
       "      <td>/funding-round/ae2a174c06517c2394aed45006322a7e</td>\n",
       "      <td>venture</td>\n",
       "      <td>03-01-2013</td>\n",
       "      <td>1700000.0</td>\n",
       "      <td>H2O.ai</td>\n",
       "      <td>Analytics</td>\n",
       "      <td>operating</td>\n",
       "      <td>USA</td>\n",
       "      <td>Analytics</td>\n",
       "    </tr>\n",
       "  </tbody>\n",
       "</table>\n",
       "</div>"
      ],
      "text/plain": [
       "                      company_permalink  \\\n",
       "0                   /organization/-fame   \n",
       "4                 /organization/0-6-com   \n",
       "8   /organization/0ndine-biomedical-inc   \n",
       "10                 /organization/0xdata   \n",
       "11                 /organization/0xdata   \n",
       "\n",
       "                            funding_round_permalink funding_round_type  \\\n",
       "0   /funding-round/9a01d05418af9f794eebff7ace91f638            venture   \n",
       "4   /funding-round/5727accaeaa57461bd22a9bdd945382d            venture   \n",
       "8   /funding-round/954b9499724b946ad8c396a57a5f3b72            venture   \n",
       "10  /funding-round/3bb2ee4a2d89251a10aaa735b1180e44            venture   \n",
       "11  /funding-round/ae2a174c06517c2394aed45006322a7e            venture   \n",
       "\n",
       "     funded_at  raised_amount_usd                    name  category_list  \\\n",
       "0   05-01-2015         10000000.0                   #fame          Media   \n",
       "4   19-03-2008          2000000.0                 0-6.com    Curated Web   \n",
       "8   21-12-2009           719491.0  Ondine Biomedical Inc.  Biotechnology   \n",
       "10  09-11-2015         20000000.0                  H2O.ai      Analytics   \n",
       "11  03-01-2013          1700000.0                  H2O.ai      Analytics   \n",
       "\n",
       "       status country_code primary_sector  \n",
       "0   operating          IND          Media  \n",
       "4   operating          CHN    Curated Web  \n",
       "8   operating          CAN  Biotechnology  \n",
       "10  operating          USA      Analytics  \n",
       "11  operating          USA      Analytics  "
      ]
     },
     "execution_count": 37,
     "metadata": {},
     "output_type": "execute_result"
    }
   ],
   "source": [
    "top9.head()"
   ]
  },
  {
   "cell_type": "code",
   "execution_count": 38,
   "metadata": {},
   "outputs": [
    {
     "data": {
      "text/html": [
       "<div>\n",
       "<style scoped>\n",
       "    .dataframe tbody tr th:only-of-type {\n",
       "        vertical-align: middle;\n",
       "    }\n",
       "\n",
       "    .dataframe tbody tr th {\n",
       "        vertical-align: top;\n",
       "    }\n",
       "\n",
       "    .dataframe thead th {\n",
       "        text-align: right;\n",
       "    }\n",
       "</style>\n",
       "<table border=\"1\" class=\"dataframe\">\n",
       "  <thead>\n",
       "    <tr style=\"text-align: right;\">\n",
       "      <th></th>\n",
       "      <th>company_permalink</th>\n",
       "      <th>funding_round_permalink</th>\n",
       "      <th>funding_round_type</th>\n",
       "      <th>funded_at</th>\n",
       "      <th>raised_amount_usd</th>\n",
       "      <th>name</th>\n",
       "      <th>status</th>\n",
       "      <th>country_code</th>\n",
       "      <th>primary_sector</th>\n",
       "    </tr>\n",
       "  </thead>\n",
       "  <tbody>\n",
       "    <tr>\n",
       "      <th>0</th>\n",
       "      <td>/organization/-fame</td>\n",
       "      <td>/funding-round/9a01d05418af9f794eebff7ace91f638</td>\n",
       "      <td>venture</td>\n",
       "      <td>05-01-2015</td>\n",
       "      <td>10000000.0</td>\n",
       "      <td>#fame</td>\n",
       "      <td>operating</td>\n",
       "      <td>IND</td>\n",
       "      <td>Media</td>\n",
       "    </tr>\n",
       "    <tr>\n",
       "      <th>4</th>\n",
       "      <td>/organization/0-6-com</td>\n",
       "      <td>/funding-round/5727accaeaa57461bd22a9bdd945382d</td>\n",
       "      <td>venture</td>\n",
       "      <td>19-03-2008</td>\n",
       "      <td>2000000.0</td>\n",
       "      <td>0-6.com</td>\n",
       "      <td>operating</td>\n",
       "      <td>CHN</td>\n",
       "      <td>Curated Web</td>\n",
       "    </tr>\n",
       "    <tr>\n",
       "      <th>8</th>\n",
       "      <td>/organization/0ndine-biomedical-inc</td>\n",
       "      <td>/funding-round/954b9499724b946ad8c396a57a5f3b72</td>\n",
       "      <td>venture</td>\n",
       "      <td>21-12-2009</td>\n",
       "      <td>719491.0</td>\n",
       "      <td>Ondine Biomedical Inc.</td>\n",
       "      <td>operating</td>\n",
       "      <td>CAN</td>\n",
       "      <td>Biotechnology</td>\n",
       "    </tr>\n",
       "    <tr>\n",
       "      <th>10</th>\n",
       "      <td>/organization/0xdata</td>\n",
       "      <td>/funding-round/3bb2ee4a2d89251a10aaa735b1180e44</td>\n",
       "      <td>venture</td>\n",
       "      <td>09-11-2015</td>\n",
       "      <td>20000000.0</td>\n",
       "      <td>H2O.ai</td>\n",
       "      <td>operating</td>\n",
       "      <td>USA</td>\n",
       "      <td>Analytics</td>\n",
       "    </tr>\n",
       "    <tr>\n",
       "      <th>11</th>\n",
       "      <td>/organization/0xdata</td>\n",
       "      <td>/funding-round/ae2a174c06517c2394aed45006322a7e</td>\n",
       "      <td>venture</td>\n",
       "      <td>03-01-2013</td>\n",
       "      <td>1700000.0</td>\n",
       "      <td>H2O.ai</td>\n",
       "      <td>operating</td>\n",
       "      <td>USA</td>\n",
       "      <td>Analytics</td>\n",
       "    </tr>\n",
       "  </tbody>\n",
       "</table>\n",
       "</div>"
      ],
      "text/plain": [
       "                      company_permalink  \\\n",
       "0                   /organization/-fame   \n",
       "4                 /organization/0-6-com   \n",
       "8   /organization/0ndine-biomedical-inc   \n",
       "10                 /organization/0xdata   \n",
       "11                 /organization/0xdata   \n",
       "\n",
       "                            funding_round_permalink funding_round_type  \\\n",
       "0   /funding-round/9a01d05418af9f794eebff7ace91f638            venture   \n",
       "4   /funding-round/5727accaeaa57461bd22a9bdd945382d            venture   \n",
       "8   /funding-round/954b9499724b946ad8c396a57a5f3b72            venture   \n",
       "10  /funding-round/3bb2ee4a2d89251a10aaa735b1180e44            venture   \n",
       "11  /funding-round/ae2a174c06517c2394aed45006322a7e            venture   \n",
       "\n",
       "     funded_at  raised_amount_usd                    name     status  \\\n",
       "0   05-01-2015         10000000.0                   #fame  operating   \n",
       "4   19-03-2008          2000000.0                 0-6.com  operating   \n",
       "8   21-12-2009           719491.0  Ondine Biomedical Inc.  operating   \n",
       "10  09-11-2015         20000000.0                  H2O.ai  operating   \n",
       "11  03-01-2013          1700000.0                  H2O.ai  operating   \n",
       "\n",
       "   country_code primary_sector  \n",
       "0           IND          Media  \n",
       "4           CHN    Curated Web  \n",
       "8           CAN  Biotechnology  \n",
       "10          USA      Analytics  \n",
       "11          USA      Analytics  "
      ]
     },
     "execution_count": 38,
     "metadata": {},
     "output_type": "execute_result"
    }
   ],
   "source": [
    "# Dropping category_list\n",
    "top9 = top9.drop('category_list', axis= 1)\n",
    "top9.head()"
   ]
  },
  {
   "cell_type": "markdown",
   "metadata": {},
   "source": [
    "# Sector Analysis-1"
   ]
  },
  {
   "cell_type": "code",
   "execution_count": 70,
   "metadata": {},
   "outputs": [
    {
     "data": {
      "text/html": [
       "<div>\n",
       "<style scoped>\n",
       "    .dataframe tbody tr th:only-of-type {\n",
       "        vertical-align: middle;\n",
       "    }\n",
       "\n",
       "    .dataframe tbody tr th {\n",
       "        vertical-align: top;\n",
       "    }\n",
       "\n",
       "    .dataframe thead th {\n",
       "        text-align: right;\n",
       "    }\n",
       "</style>\n",
       "<table border=\"1\" class=\"dataframe\">\n",
       "  <thead>\n",
       "    <tr style=\"text-align: right;\">\n",
       "      <th></th>\n",
       "      <th>category_list</th>\n",
       "      <th>Automotive &amp; Sports</th>\n",
       "      <th>Blanks</th>\n",
       "      <th>Cleantech / Semiconductors</th>\n",
       "      <th>Entertainment</th>\n",
       "      <th>Health</th>\n",
       "      <th>Manufacturing</th>\n",
       "      <th>News, Search and Messaging</th>\n",
       "      <th>Others</th>\n",
       "      <th>Social, Finance, Analytics, Advertising</th>\n",
       "    </tr>\n",
       "  </thead>\n",
       "  <tbody>\n",
       "    <tr>\n",
       "      <th>0</th>\n",
       "      <td>NaN</td>\n",
       "      <td>0</td>\n",
       "      <td>1</td>\n",
       "      <td>0</td>\n",
       "      <td>0</td>\n",
       "      <td>0</td>\n",
       "      <td>0</td>\n",
       "      <td>0</td>\n",
       "      <td>0</td>\n",
       "      <td>0</td>\n",
       "    </tr>\n",
       "    <tr>\n",
       "      <th>1</th>\n",
       "      <td>3D</td>\n",
       "      <td>0</td>\n",
       "      <td>0</td>\n",
       "      <td>0</td>\n",
       "      <td>0</td>\n",
       "      <td>0</td>\n",
       "      <td>1</td>\n",
       "      <td>0</td>\n",
       "      <td>0</td>\n",
       "      <td>0</td>\n",
       "    </tr>\n",
       "    <tr>\n",
       "      <th>2</th>\n",
       "      <td>3D Printing</td>\n",
       "      <td>0</td>\n",
       "      <td>0</td>\n",
       "      <td>0</td>\n",
       "      <td>0</td>\n",
       "      <td>0</td>\n",
       "      <td>1</td>\n",
       "      <td>0</td>\n",
       "      <td>0</td>\n",
       "      <td>0</td>\n",
       "    </tr>\n",
       "    <tr>\n",
       "      <th>3</th>\n",
       "      <td>3D Technology</td>\n",
       "      <td>0</td>\n",
       "      <td>0</td>\n",
       "      <td>0</td>\n",
       "      <td>0</td>\n",
       "      <td>0</td>\n",
       "      <td>1</td>\n",
       "      <td>0</td>\n",
       "      <td>0</td>\n",
       "      <td>0</td>\n",
       "    </tr>\n",
       "    <tr>\n",
       "      <th>4</th>\n",
       "      <td>Accounting</td>\n",
       "      <td>0</td>\n",
       "      <td>0</td>\n",
       "      <td>0</td>\n",
       "      <td>0</td>\n",
       "      <td>0</td>\n",
       "      <td>0</td>\n",
       "      <td>0</td>\n",
       "      <td>0</td>\n",
       "      <td>1</td>\n",
       "    </tr>\n",
       "    <tr>\n",
       "      <th>5</th>\n",
       "      <td>Active Lifestyle</td>\n",
       "      <td>0</td>\n",
       "      <td>0</td>\n",
       "      <td>0</td>\n",
       "      <td>0</td>\n",
       "      <td>1</td>\n",
       "      <td>0</td>\n",
       "      <td>0</td>\n",
       "      <td>0</td>\n",
       "      <td>0</td>\n",
       "    </tr>\n",
       "    <tr>\n",
       "      <th>6</th>\n",
       "      <td>Ad Targeting</td>\n",
       "      <td>0</td>\n",
       "      <td>0</td>\n",
       "      <td>0</td>\n",
       "      <td>0</td>\n",
       "      <td>0</td>\n",
       "      <td>0</td>\n",
       "      <td>0</td>\n",
       "      <td>0</td>\n",
       "      <td>1</td>\n",
       "    </tr>\n",
       "    <tr>\n",
       "      <th>7</th>\n",
       "      <td>Advanced Materials</td>\n",
       "      <td>0</td>\n",
       "      <td>0</td>\n",
       "      <td>0</td>\n",
       "      <td>0</td>\n",
       "      <td>0</td>\n",
       "      <td>1</td>\n",
       "      <td>0</td>\n",
       "      <td>0</td>\n",
       "      <td>0</td>\n",
       "    </tr>\n",
       "    <tr>\n",
       "      <th>8</th>\n",
       "      <td>Adventure Travel</td>\n",
       "      <td>1</td>\n",
       "      <td>0</td>\n",
       "      <td>0</td>\n",
       "      <td>0</td>\n",
       "      <td>0</td>\n",
       "      <td>0</td>\n",
       "      <td>0</td>\n",
       "      <td>0</td>\n",
       "      <td>0</td>\n",
       "    </tr>\n",
       "    <tr>\n",
       "      <th>9</th>\n",
       "      <td>Advertising</td>\n",
       "      <td>0</td>\n",
       "      <td>0</td>\n",
       "      <td>0</td>\n",
       "      <td>0</td>\n",
       "      <td>0</td>\n",
       "      <td>0</td>\n",
       "      <td>0</td>\n",
       "      <td>0</td>\n",
       "      <td>1</td>\n",
       "    </tr>\n",
       "  </tbody>\n",
       "</table>\n",
       "</div>"
      ],
      "text/plain": [
       "        category_list  Automotive & Sports  Blanks  \\\n",
       "0                 NaN                    0       1   \n",
       "1                  3D                    0       0   \n",
       "2         3D Printing                    0       0   \n",
       "3       3D Technology                    0       0   \n",
       "4          Accounting                    0       0   \n",
       "5    Active Lifestyle                    0       0   \n",
       "6        Ad Targeting                    0       0   \n",
       "7  Advanced Materials                    0       0   \n",
       "8    Adventure Travel                    1       0   \n",
       "9         Advertising                    0       0   \n",
       "\n",
       "   Cleantech / Semiconductors  Entertainment  Health  Manufacturing  \\\n",
       "0                           0              0       0              0   \n",
       "1                           0              0       0              1   \n",
       "2                           0              0       0              1   \n",
       "3                           0              0       0              1   \n",
       "4                           0              0       0              0   \n",
       "5                           0              0       1              0   \n",
       "6                           0              0       0              0   \n",
       "7                           0              0       0              1   \n",
       "8                           0              0       0              0   \n",
       "9                           0              0       0              0   \n",
       "\n",
       "   News, Search and Messaging  Others  Social, Finance, Analytics, Advertising  \n",
       "0                           0       0                                        0  \n",
       "1                           0       0                                        0  \n",
       "2                           0       0                                        0  \n",
       "3                           0       0                                        0  \n",
       "4                           0       0                                        1  \n",
       "5                           0       0                                        0  \n",
       "6                           0       0                                        1  \n",
       "7                           0       0                                        0  \n",
       "8                           0       0                                        0  \n",
       "9                           0       0                                        1  "
      ]
     },
     "execution_count": 70,
     "metadata": {},
     "output_type": "execute_result"
    }
   ],
   "source": [
    "#Importing mapping dataset\n",
    "mapping = pd.read_csv(\"mapping.csv\", encoding = \"ISO-8859-1\")\n",
    "mapping.head(10)"
   ]
  },
  {
   "cell_type": "code",
   "execution_count": 71,
   "metadata": {},
   "outputs": [
    {
     "name": "stdout",
     "output_type": "stream",
     "text": [
      "<class 'pandas.core.frame.DataFrame'>\n",
      "RangeIndex: 688 entries, 0 to 687\n",
      "Data columns (total 10 columns):\n",
      " #   Column                                   Non-Null Count  Dtype \n",
      "---  ------                                   --------------  ----- \n",
      " 0   category_list                            687 non-null    object\n",
      " 1   Automotive & Sports                      688 non-null    int64 \n",
      " 2   Blanks                                   688 non-null    int64 \n",
      " 3   Cleantech / Semiconductors               688 non-null    int64 \n",
      " 4   Entertainment                            688 non-null    int64 \n",
      " 5   Health                                   688 non-null    int64 \n",
      " 6   Manufacturing                            688 non-null    int64 \n",
      " 7   News, Search and Messaging               688 non-null    int64 \n",
      " 8   Others                                   688 non-null    int64 \n",
      " 9   Social, Finance, Analytics, Advertising  688 non-null    int64 \n",
      "dtypes: int64(9), object(1)\n",
      "memory usage: 53.9+ KB\n"
     ]
    }
   ],
   "source": [
    "mapping.info()"
   ]
  },
  {
   "cell_type": "code",
   "execution_count": 72,
   "metadata": {},
   "outputs": [
    {
     "data": {
      "text/plain": [
       "(688, 2)"
      ]
     },
     "execution_count": 72,
     "metadata": {},
     "output_type": "execute_result"
    }
   ],
   "source": [
    "mapping= pd.melt(mapping, id_vars=['category_list'], var_name=['main_sector'])\n",
    "mapping=mapping[mapping.value==1]\n",
    "mapping=mapping.drop('value',axis=1)\n",
    "mapping.shape"
   ]
  },
  {
   "cell_type": "code",
   "execution_count": 73,
   "metadata": {},
   "outputs": [],
   "source": [
    "# function to replace 0 with na\n",
    "import re\n",
    "mapping['category_list'] = mapping.category_list.apply(lambda x: re.sub('[0]', 'na', str(x)))"
   ]
  },
  {
   "cell_type": "code",
   "execution_count": 75,
   "metadata": {},
   "outputs": [
    {
     "data": {
      "text/html": [
       "<div>\n",
       "<style scoped>\n",
       "    .dataframe tbody tr th:only-of-type {\n",
       "        vertical-align: middle;\n",
       "    }\n",
       "\n",
       "    .dataframe tbody tr th {\n",
       "        vertical-align: top;\n",
       "    }\n",
       "\n",
       "    .dataframe thead th {\n",
       "        text-align: right;\n",
       "    }\n",
       "</style>\n",
       "<table border=\"1\" class=\"dataframe\">\n",
       "  <thead>\n",
       "    <tr style=\"text-align: right;\">\n",
       "      <th></th>\n",
       "      <th>category_list</th>\n",
       "      <th>main_sector</th>\n",
       "    </tr>\n",
       "  </thead>\n",
       "  <tbody>\n",
       "    <tr>\n",
       "      <th>8</th>\n",
       "      <td>Adventure Travel</td>\n",
       "      <td>Automotive &amp; Sports</td>\n",
       "    </tr>\n",
       "    <tr>\n",
       "      <th>14</th>\n",
       "      <td>Aerospace</td>\n",
       "      <td>Automotive &amp; Sports</td>\n",
       "    </tr>\n",
       "    <tr>\n",
       "      <th>45</th>\n",
       "      <td>Auto</td>\n",
       "      <td>Automotive &amp; Sports</td>\n",
       "    </tr>\n",
       "    <tr>\n",
       "      <th>46</th>\n",
       "      <td>Automated Kiosk</td>\n",
       "      <td>Automotive &amp; Sports</td>\n",
       "    </tr>\n",
       "    <tr>\n",
       "      <th>47</th>\n",
       "      <td>Automotive</td>\n",
       "      <td>Automotive &amp; Sports</td>\n",
       "    </tr>\n",
       "  </tbody>\n",
       "</table>\n",
       "</div>"
      ],
      "text/plain": [
       "       category_list          main_sector\n",
       "8   Adventure Travel  Automotive & Sports\n",
       "14         Aerospace  Automotive & Sports\n",
       "45              Auto  Automotive & Sports\n",
       "46   Automated Kiosk  Automotive & Sports\n",
       "47        Automotive  Automotive & Sports"
      ]
     },
     "execution_count": 75,
     "metadata": {},
     "output_type": "execute_result"
    }
   ],
   "source": [
    "mapping.head()"
   ]
  },
  {
   "cell_type": "code",
   "execution_count": 76,
   "metadata": {},
   "outputs": [],
   "source": [
    "top9=pd.merge(top9,mapping,how=\"left\",left_on=\"primary_sector\",right_on=\"category_list\")"
   ]
  },
  {
   "cell_type": "code",
   "execution_count": 77,
   "metadata": {},
   "outputs": [
    {
     "data": {
      "text/html": [
       "<div>\n",
       "<style scoped>\n",
       "    .dataframe tbody tr th:only-of-type {\n",
       "        vertical-align: middle;\n",
       "    }\n",
       "\n",
       "    .dataframe tbody tr th {\n",
       "        vertical-align: top;\n",
       "    }\n",
       "\n",
       "    .dataframe thead th {\n",
       "        text-align: right;\n",
       "    }\n",
       "</style>\n",
       "<table border=\"1\" class=\"dataframe\">\n",
       "  <thead>\n",
       "    <tr style=\"text-align: right;\">\n",
       "      <th></th>\n",
       "      <th>company_permalink</th>\n",
       "      <th>funding_round_permalink</th>\n",
       "      <th>funding_round_type</th>\n",
       "      <th>funded_at</th>\n",
       "      <th>raised_amount_usd</th>\n",
       "      <th>name</th>\n",
       "      <th>status</th>\n",
       "      <th>country_code</th>\n",
       "      <th>primary_sector</th>\n",
       "      <th>category_list</th>\n",
       "      <th>main_sector</th>\n",
       "    </tr>\n",
       "  </thead>\n",
       "  <tbody>\n",
       "    <tr>\n",
       "      <th>0</th>\n",
       "      <td>/organization/-fame</td>\n",
       "      <td>/funding-round/9a01d05418af9f794eebff7ace91f638</td>\n",
       "      <td>venture</td>\n",
       "      <td>05-01-2015</td>\n",
       "      <td>10000000.0</td>\n",
       "      <td>#fame</td>\n",
       "      <td>operating</td>\n",
       "      <td>IND</td>\n",
       "      <td>Media</td>\n",
       "      <td>Media</td>\n",
       "      <td>Entertainment</td>\n",
       "    </tr>\n",
       "    <tr>\n",
       "      <th>1</th>\n",
       "      <td>/organization/0-6-com</td>\n",
       "      <td>/funding-round/5727accaeaa57461bd22a9bdd945382d</td>\n",
       "      <td>venture</td>\n",
       "      <td>19-03-2008</td>\n",
       "      <td>2000000.0</td>\n",
       "      <td>0-6.com</td>\n",
       "      <td>operating</td>\n",
       "      <td>CHN</td>\n",
       "      <td>Curated Web</td>\n",
       "      <td>Curated Web</td>\n",
       "      <td>News, Search and Messaging</td>\n",
       "    </tr>\n",
       "    <tr>\n",
       "      <th>2</th>\n",
       "      <td>/organization/0ndine-biomedical-inc</td>\n",
       "      <td>/funding-round/954b9499724b946ad8c396a57a5f3b72</td>\n",
       "      <td>venture</td>\n",
       "      <td>21-12-2009</td>\n",
       "      <td>719491.0</td>\n",
       "      <td>Ondine Biomedical Inc.</td>\n",
       "      <td>operating</td>\n",
       "      <td>CAN</td>\n",
       "      <td>Biotechnology</td>\n",
       "      <td>Biotechnology</td>\n",
       "      <td>Cleantech / Semiconductors</td>\n",
       "    </tr>\n",
       "    <tr>\n",
       "      <th>3</th>\n",
       "      <td>/organization/0xdata</td>\n",
       "      <td>/funding-round/3bb2ee4a2d89251a10aaa735b1180e44</td>\n",
       "      <td>venture</td>\n",
       "      <td>09-11-2015</td>\n",
       "      <td>20000000.0</td>\n",
       "      <td>H2O.ai</td>\n",
       "      <td>operating</td>\n",
       "      <td>USA</td>\n",
       "      <td>Analytics</td>\n",
       "      <td>Analytics</td>\n",
       "      <td>Social, Finance, Analytics, Advertising</td>\n",
       "    </tr>\n",
       "    <tr>\n",
       "      <th>4</th>\n",
       "      <td>/organization/0xdata</td>\n",
       "      <td>/funding-round/ae2a174c06517c2394aed45006322a7e</td>\n",
       "      <td>venture</td>\n",
       "      <td>03-01-2013</td>\n",
       "      <td>1700000.0</td>\n",
       "      <td>H2O.ai</td>\n",
       "      <td>operating</td>\n",
       "      <td>USA</td>\n",
       "      <td>Analytics</td>\n",
       "      <td>Analytics</td>\n",
       "      <td>Social, Finance, Analytics, Advertising</td>\n",
       "    </tr>\n",
       "  </tbody>\n",
       "</table>\n",
       "</div>"
      ],
      "text/plain": [
       "                     company_permalink  \\\n",
       "0                  /organization/-fame   \n",
       "1                /organization/0-6-com   \n",
       "2  /organization/0ndine-biomedical-inc   \n",
       "3                 /organization/0xdata   \n",
       "4                 /organization/0xdata   \n",
       "\n",
       "                           funding_round_permalink funding_round_type  \\\n",
       "0  /funding-round/9a01d05418af9f794eebff7ace91f638            venture   \n",
       "1  /funding-round/5727accaeaa57461bd22a9bdd945382d            venture   \n",
       "2  /funding-round/954b9499724b946ad8c396a57a5f3b72            venture   \n",
       "3  /funding-round/3bb2ee4a2d89251a10aaa735b1180e44            venture   \n",
       "4  /funding-round/ae2a174c06517c2394aed45006322a7e            venture   \n",
       "\n",
       "    funded_at  raised_amount_usd                    name     status  \\\n",
       "0  05-01-2015         10000000.0                   #fame  operating   \n",
       "1  19-03-2008          2000000.0                 0-6.com  operating   \n",
       "2  21-12-2009           719491.0  Ondine Biomedical Inc.  operating   \n",
       "3  09-11-2015         20000000.0                  H2O.ai  operating   \n",
       "4  03-01-2013          1700000.0                  H2O.ai  operating   \n",
       "\n",
       "  country_code primary_sector  category_list  \\\n",
       "0          IND          Media          Media   \n",
       "1          CHN    Curated Web    Curated Web   \n",
       "2          CAN  Biotechnology  Biotechnology   \n",
       "3          USA      Analytics      Analytics   \n",
       "4          USA      Analytics      Analytics   \n",
       "\n",
       "                               main_sector  \n",
       "0                            Entertainment  \n",
       "1               News, Search and Messaging  \n",
       "2               Cleantech / Semiconductors  \n",
       "3  Social, Finance, Analytics, Advertising  \n",
       "4  Social, Finance, Analytics, Advertising  "
      ]
     },
     "execution_count": 77,
     "metadata": {},
     "output_type": "execute_result"
    }
   ],
   "source": [
    "top9.head()"
   ]
  },
  {
   "cell_type": "code",
   "execution_count": 78,
   "metadata": {},
   "outputs": [
    {
     "data": {
      "text/html": [
       "<div>\n",
       "<style scoped>\n",
       "    .dataframe tbody tr th:only-of-type {\n",
       "        vertical-align: middle;\n",
       "    }\n",
       "\n",
       "    .dataframe tbody tr th {\n",
       "        vertical-align: top;\n",
       "    }\n",
       "\n",
       "    .dataframe thead th {\n",
       "        text-align: right;\n",
       "    }\n",
       "</style>\n",
       "<table border=\"1\" class=\"dataframe\">\n",
       "  <thead>\n",
       "    <tr style=\"text-align: right;\">\n",
       "      <th></th>\n",
       "      <th>company_permalink</th>\n",
       "      <th>funding_round_permalink</th>\n",
       "      <th>funding_round_type</th>\n",
       "      <th>funded_at</th>\n",
       "      <th>raised_amount_usd</th>\n",
       "      <th>name</th>\n",
       "      <th>status</th>\n",
       "      <th>country_code</th>\n",
       "      <th>primary_sector</th>\n",
       "      <th>main_sector</th>\n",
       "    </tr>\n",
       "  </thead>\n",
       "  <tbody>\n",
       "    <tr>\n",
       "      <th>0</th>\n",
       "      <td>/organization/-fame</td>\n",
       "      <td>/funding-round/9a01d05418af9f794eebff7ace91f638</td>\n",
       "      <td>venture</td>\n",
       "      <td>05-01-2015</td>\n",
       "      <td>10000000.0</td>\n",
       "      <td>#fame</td>\n",
       "      <td>operating</td>\n",
       "      <td>IND</td>\n",
       "      <td>Media</td>\n",
       "      <td>Entertainment</td>\n",
       "    </tr>\n",
       "    <tr>\n",
       "      <th>1</th>\n",
       "      <td>/organization/0-6-com</td>\n",
       "      <td>/funding-round/5727accaeaa57461bd22a9bdd945382d</td>\n",
       "      <td>venture</td>\n",
       "      <td>19-03-2008</td>\n",
       "      <td>2000000.0</td>\n",
       "      <td>0-6.com</td>\n",
       "      <td>operating</td>\n",
       "      <td>CHN</td>\n",
       "      <td>Curated Web</td>\n",
       "      <td>News, Search and Messaging</td>\n",
       "    </tr>\n",
       "    <tr>\n",
       "      <th>2</th>\n",
       "      <td>/organization/0ndine-biomedical-inc</td>\n",
       "      <td>/funding-round/954b9499724b946ad8c396a57a5f3b72</td>\n",
       "      <td>venture</td>\n",
       "      <td>21-12-2009</td>\n",
       "      <td>719491.0</td>\n",
       "      <td>Ondine Biomedical Inc.</td>\n",
       "      <td>operating</td>\n",
       "      <td>CAN</td>\n",
       "      <td>Biotechnology</td>\n",
       "      <td>Cleantech / Semiconductors</td>\n",
       "    </tr>\n",
       "    <tr>\n",
       "      <th>3</th>\n",
       "      <td>/organization/0xdata</td>\n",
       "      <td>/funding-round/3bb2ee4a2d89251a10aaa735b1180e44</td>\n",
       "      <td>venture</td>\n",
       "      <td>09-11-2015</td>\n",
       "      <td>20000000.0</td>\n",
       "      <td>H2O.ai</td>\n",
       "      <td>operating</td>\n",
       "      <td>USA</td>\n",
       "      <td>Analytics</td>\n",
       "      <td>Social, Finance, Analytics, Advertising</td>\n",
       "    </tr>\n",
       "    <tr>\n",
       "      <th>4</th>\n",
       "      <td>/organization/0xdata</td>\n",
       "      <td>/funding-round/ae2a174c06517c2394aed45006322a7e</td>\n",
       "      <td>venture</td>\n",
       "      <td>03-01-2013</td>\n",
       "      <td>1700000.0</td>\n",
       "      <td>H2O.ai</td>\n",
       "      <td>operating</td>\n",
       "      <td>USA</td>\n",
       "      <td>Analytics</td>\n",
       "      <td>Social, Finance, Analytics, Advertising</td>\n",
       "    </tr>\n",
       "  </tbody>\n",
       "</table>\n",
       "</div>"
      ],
      "text/plain": [
       "                     company_permalink  \\\n",
       "0                  /organization/-fame   \n",
       "1                /organization/0-6-com   \n",
       "2  /organization/0ndine-biomedical-inc   \n",
       "3                 /organization/0xdata   \n",
       "4                 /organization/0xdata   \n",
       "\n",
       "                           funding_round_permalink funding_round_type  \\\n",
       "0  /funding-round/9a01d05418af9f794eebff7ace91f638            venture   \n",
       "1  /funding-round/5727accaeaa57461bd22a9bdd945382d            venture   \n",
       "2  /funding-round/954b9499724b946ad8c396a57a5f3b72            venture   \n",
       "3  /funding-round/3bb2ee4a2d89251a10aaa735b1180e44            venture   \n",
       "4  /funding-round/ae2a174c06517c2394aed45006322a7e            venture   \n",
       "\n",
       "    funded_at  raised_amount_usd                    name     status  \\\n",
       "0  05-01-2015         10000000.0                   #fame  operating   \n",
       "1  19-03-2008          2000000.0                 0-6.com  operating   \n",
       "2  21-12-2009           719491.0  Ondine Biomedical Inc.  operating   \n",
       "3  09-11-2015         20000000.0                  H2O.ai  operating   \n",
       "4  03-01-2013          1700000.0                  H2O.ai  operating   \n",
       "\n",
       "  country_code primary_sector                              main_sector  \n",
       "0          IND          Media                            Entertainment  \n",
       "1          CHN    Curated Web               News, Search and Messaging  \n",
       "2          CAN  Biotechnology               Cleantech / Semiconductors  \n",
       "3          USA      Analytics  Social, Finance, Analytics, Advertising  \n",
       "4          USA      Analytics  Social, Finance, Analytics, Advertising  "
      ]
     },
     "execution_count": 78,
     "metadata": {},
     "output_type": "execute_result"
    }
   ],
   "source": [
    "top9=top9.drop('category_list',axis=1)\n",
    "top9.head()"
   ]
  },
  {
   "cell_type": "code",
   "execution_count": 79,
   "metadata": {},
   "outputs": [
    {
     "data": {
      "text/plain": [
       "0                              Entertainment\n",
       "1                 News, Search and Messaging\n",
       "2                 Cleantech / Semiconductors\n",
       "3    Social, Finance, Analytics, Advertising\n",
       "4    Social, Finance, Analytics, Advertising\n",
       "Name: main_sector, dtype: object"
      ]
     },
     "execution_count": 79,
     "metadata": {},
     "output_type": "execute_result"
    }
   ],
   "source": [
    "top9['main_sector'].head()"
   ]
  },
  {
   "cell_type": "code",
   "execution_count": 80,
   "metadata": {},
   "outputs": [
    {
     "data": {
      "text/plain": [
       "440"
      ]
     },
     "execution_count": 80,
     "metadata": {},
     "output_type": "execute_result"
    }
   ],
   "source": [
    "len(top9[top9['main_sector'].isnull()])"
   ]
  },
  {
   "cell_type": "code",
   "execution_count": 81,
   "metadata": {},
   "outputs": [],
   "source": [
    "top9=top9[~(top9['main_sector'].isnull())]"
   ]
  },
  {
   "cell_type": "code",
   "execution_count": 82,
   "metadata": {},
   "outputs": [
    {
     "data": {
      "text/plain": [
       "0"
      ]
     },
     "execution_count": 82,
     "metadata": {},
     "output_type": "execute_result"
    }
   ],
   "source": [
    "len(top9[top9['main_sector'].isnull()])"
   ]
  },
  {
   "cell_type": "code",
   "execution_count": 84,
   "metadata": {},
   "outputs": [
    {
     "data": {
      "text/html": [
       "<div>\n",
       "<style scoped>\n",
       "    .dataframe tbody tr th:only-of-type {\n",
       "        vertical-align: middle;\n",
       "    }\n",
       "\n",
       "    .dataframe tbody tr th {\n",
       "        vertical-align: top;\n",
       "    }\n",
       "\n",
       "    .dataframe thead th {\n",
       "        text-align: right;\n",
       "    }\n",
       "</style>\n",
       "<table border=\"1\" class=\"dataframe\">\n",
       "  <thead>\n",
       "    <tr style=\"text-align: right;\">\n",
       "      <th></th>\n",
       "      <th>company_permalink</th>\n",
       "      <th>funding_round_permalink</th>\n",
       "      <th>funding_round_type</th>\n",
       "      <th>funded_at</th>\n",
       "      <th>raised_amount_usd</th>\n",
       "      <th>name</th>\n",
       "      <th>status</th>\n",
       "      <th>country_code</th>\n",
       "      <th>primary_sector</th>\n",
       "      <th>main_sector</th>\n",
       "    </tr>\n",
       "  </thead>\n",
       "  <tbody>\n",
       "    <tr>\n",
       "      <th>0</th>\n",
       "      <td>/organization/-fame</td>\n",
       "      <td>/funding-round/9a01d05418af9f794eebff7ace91f638</td>\n",
       "      <td>venture</td>\n",
       "      <td>05-01-2015</td>\n",
       "      <td>10000000.0</td>\n",
       "      <td>#fame</td>\n",
       "      <td>operating</td>\n",
       "      <td>IND</td>\n",
       "      <td>Media</td>\n",
       "      <td>Entertainment</td>\n",
       "    </tr>\n",
       "    <tr>\n",
       "      <th>1</th>\n",
       "      <td>/organization/0-6-com</td>\n",
       "      <td>/funding-round/5727accaeaa57461bd22a9bdd945382d</td>\n",
       "      <td>venture</td>\n",
       "      <td>19-03-2008</td>\n",
       "      <td>2000000.0</td>\n",
       "      <td>0-6.com</td>\n",
       "      <td>operating</td>\n",
       "      <td>CHN</td>\n",
       "      <td>Curated Web</td>\n",
       "      <td>News, Search and Messaging</td>\n",
       "    </tr>\n",
       "    <tr>\n",
       "      <th>2</th>\n",
       "      <td>/organization/0ndine-biomedical-inc</td>\n",
       "      <td>/funding-round/954b9499724b946ad8c396a57a5f3b72</td>\n",
       "      <td>venture</td>\n",
       "      <td>21-12-2009</td>\n",
       "      <td>719491.0</td>\n",
       "      <td>Ondine Biomedical Inc.</td>\n",
       "      <td>operating</td>\n",
       "      <td>CAN</td>\n",
       "      <td>Biotechnology</td>\n",
       "      <td>Cleantech / Semiconductors</td>\n",
       "    </tr>\n",
       "    <tr>\n",
       "      <th>3</th>\n",
       "      <td>/organization/0xdata</td>\n",
       "      <td>/funding-round/3bb2ee4a2d89251a10aaa735b1180e44</td>\n",
       "      <td>venture</td>\n",
       "      <td>09-11-2015</td>\n",
       "      <td>20000000.0</td>\n",
       "      <td>H2O.ai</td>\n",
       "      <td>operating</td>\n",
       "      <td>USA</td>\n",
       "      <td>Analytics</td>\n",
       "      <td>Social, Finance, Analytics, Advertising</td>\n",
       "    </tr>\n",
       "    <tr>\n",
       "      <th>4</th>\n",
       "      <td>/organization/0xdata</td>\n",
       "      <td>/funding-round/ae2a174c06517c2394aed45006322a7e</td>\n",
       "      <td>venture</td>\n",
       "      <td>03-01-2013</td>\n",
       "      <td>1700000.0</td>\n",
       "      <td>H2O.ai</td>\n",
       "      <td>operating</td>\n",
       "      <td>USA</td>\n",
       "      <td>Analytics</td>\n",
       "      <td>Social, Finance, Analytics, Advertising</td>\n",
       "    </tr>\n",
       "  </tbody>\n",
       "</table>\n",
       "</div>"
      ],
      "text/plain": [
       "                     company_permalink  \\\n",
       "0                  /organization/-fame   \n",
       "1                /organization/0-6-com   \n",
       "2  /organization/0ndine-biomedical-inc   \n",
       "3                 /organization/0xdata   \n",
       "4                 /organization/0xdata   \n",
       "\n",
       "                           funding_round_permalink funding_round_type  \\\n",
       "0  /funding-round/9a01d05418af9f794eebff7ace91f638            venture   \n",
       "1  /funding-round/5727accaeaa57461bd22a9bdd945382d            venture   \n",
       "2  /funding-round/954b9499724b946ad8c396a57a5f3b72            venture   \n",
       "3  /funding-round/3bb2ee4a2d89251a10aaa735b1180e44            venture   \n",
       "4  /funding-round/ae2a174c06517c2394aed45006322a7e            venture   \n",
       "\n",
       "    funded_at  raised_amount_usd                    name     status  \\\n",
       "0  05-01-2015         10000000.0                   #fame  operating   \n",
       "1  19-03-2008          2000000.0                 0-6.com  operating   \n",
       "2  21-12-2009           719491.0  Ondine Biomedical Inc.  operating   \n",
       "3  09-11-2015         20000000.0                  H2O.ai  operating   \n",
       "4  03-01-2013          1700000.0                  H2O.ai  operating   \n",
       "\n",
       "  country_code primary_sector                              main_sector  \n",
       "0          IND          Media                            Entertainment  \n",
       "1          CHN    Curated Web               News, Search and Messaging  \n",
       "2          CAN  Biotechnology               Cleantech / Semiconductors  \n",
       "3          USA      Analytics  Social, Finance, Analytics, Advertising  \n",
       "4          USA      Analytics  Social, Finance, Analytics, Advertising  "
      ]
     },
     "execution_count": 84,
     "metadata": {},
     "output_type": "execute_result"
    }
   ],
   "source": [
    "top9.head()"
   ]
  },
  {
   "cell_type": "markdown",
   "metadata": {},
   "source": [
    "# Sector Analysis-2"
   ]
  },
  {
   "cell_type": "markdown",
   "metadata": {},
   "source": [
    "Sector Analysis- USA"
   ]
  },
  {
   "cell_type": "code",
   "execution_count": 98,
   "metadata": {},
   "outputs": [],
   "source": [
    "D1=top9[top9['country_code']=='USA']\n",
    "D1 = D1[(D1['raised_amount_usd'] >= 5000000) & (D1['raised_amount_usd'] <= 15000000)]"
   ]
  },
  {
   "cell_type": "code",
   "execution_count": 138,
   "metadata": {},
   "outputs": [
    {
     "data": {
      "text/html": [
       "<div>\n",
       "<style scoped>\n",
       "    .dataframe tbody tr th:only-of-type {\n",
       "        vertical-align: middle;\n",
       "    }\n",
       "\n",
       "    .dataframe tbody tr th {\n",
       "        vertical-align: top;\n",
       "    }\n",
       "\n",
       "    .dataframe thead th {\n",
       "        text-align: right;\n",
       "    }\n",
       "</style>\n",
       "<table border=\"1\" class=\"dataframe\">\n",
       "  <thead>\n",
       "    <tr style=\"text-align: right;\">\n",
       "      <th></th>\n",
       "      <th>company_permalink</th>\n",
       "      <th>funding_round_permalink</th>\n",
       "      <th>funding_round_type</th>\n",
       "      <th>funded_at</th>\n",
       "      <th>raised_amount_usd</th>\n",
       "      <th>name</th>\n",
       "      <th>status</th>\n",
       "      <th>country_code</th>\n",
       "      <th>primary_sector</th>\n",
       "      <th>main_sector</th>\n",
       "    </tr>\n",
       "  </thead>\n",
       "  <tbody>\n",
       "    <tr>\n",
       "      <th>5</th>\n",
       "      <td>/organization/0xdata</td>\n",
       "      <td>/funding-round/e1cfcbe1bdf4c70277c5f29a3482f24e</td>\n",
       "      <td>venture</td>\n",
       "      <td>19-07-2014</td>\n",
       "      <td>8900000.0</td>\n",
       "      <td>H2O.ai</td>\n",
       "      <td>operating</td>\n",
       "      <td>USA</td>\n",
       "      <td>Analytics</td>\n",
       "      <td>Social, Finance, Analytics, Advertising</td>\n",
       "    </tr>\n",
       "    <tr>\n",
       "      <th>6</th>\n",
       "      <td>/organization/1-mainstream</td>\n",
       "      <td>/funding-round/b952cbaf401f310927430c97b68162ea</td>\n",
       "      <td>venture</td>\n",
       "      <td>17-03-2015</td>\n",
       "      <td>5000000.0</td>\n",
       "      <td>1 Mainstream</td>\n",
       "      <td>acquired</td>\n",
       "      <td>USA</td>\n",
       "      <td>Apps</td>\n",
       "      <td>News, Search and Messaging</td>\n",
       "    </tr>\n",
       "    <tr>\n",
       "      <th>29</th>\n",
       "      <td>/organization/128-technology</td>\n",
       "      <td>/funding-round/fb6216a30cb566ede89e0bee0623a634</td>\n",
       "      <td>venture</td>\n",
       "      <td>16-12-2014</td>\n",
       "      <td>11999347.0</td>\n",
       "      <td>128 Technology</td>\n",
       "      <td>operating</td>\n",
       "      <td>USA</td>\n",
       "      <td>Service Providers</td>\n",
       "      <td>Others</td>\n",
       "    </tr>\n",
       "    <tr>\n",
       "      <th>32</th>\n",
       "      <td>/organization/1366-technologies</td>\n",
       "      <td>/funding-round/424129ce1235cfab2655ee81305f7c2b</td>\n",
       "      <td>venture</td>\n",
       "      <td>15-10-2013</td>\n",
       "      <td>15000000.0</td>\n",
       "      <td>1366 Technologies</td>\n",
       "      <td>operating</td>\n",
       "      <td>USA</td>\n",
       "      <td>Manufacturing</td>\n",
       "      <td>Manufacturing</td>\n",
       "    </tr>\n",
       "    <tr>\n",
       "      <th>33</th>\n",
       "      <td>/organization/1366-technologies</td>\n",
       "      <td>/funding-round/6d3f3797371956ece035b8478c1441b2</td>\n",
       "      <td>venture</td>\n",
       "      <td>09-04-2015</td>\n",
       "      <td>5000000.0</td>\n",
       "      <td>1366 Technologies</td>\n",
       "      <td>operating</td>\n",
       "      <td>USA</td>\n",
       "      <td>Manufacturing</td>\n",
       "      <td>Manufacturing</td>\n",
       "    </tr>\n",
       "  </tbody>\n",
       "</table>\n",
       "</div>"
      ],
      "text/plain": [
       "                  company_permalink  \\\n",
       "5              /organization/0xdata   \n",
       "6        /organization/1-mainstream   \n",
       "29     /organization/128-technology   \n",
       "32  /organization/1366-technologies   \n",
       "33  /organization/1366-technologies   \n",
       "\n",
       "                            funding_round_permalink funding_round_type  \\\n",
       "5   /funding-round/e1cfcbe1bdf4c70277c5f29a3482f24e            venture   \n",
       "6   /funding-round/b952cbaf401f310927430c97b68162ea            venture   \n",
       "29  /funding-round/fb6216a30cb566ede89e0bee0623a634            venture   \n",
       "32  /funding-round/424129ce1235cfab2655ee81305f7c2b            venture   \n",
       "33  /funding-round/6d3f3797371956ece035b8478c1441b2            venture   \n",
       "\n",
       "     funded_at  raised_amount_usd               name     status country_code  \\\n",
       "5   19-07-2014          8900000.0             H2O.ai  operating          USA   \n",
       "6   17-03-2015          5000000.0       1 Mainstream   acquired          USA   \n",
       "29  16-12-2014         11999347.0     128 Technology  operating          USA   \n",
       "32  15-10-2013         15000000.0  1366 Technologies  operating          USA   \n",
       "33  09-04-2015          5000000.0  1366 Technologies  operating          USA   \n",
       "\n",
       "       primary_sector                              main_sector  \n",
       "5           Analytics  Social, Finance, Analytics, Advertising  \n",
       "6                Apps               News, Search and Messaging  \n",
       "29  Service Providers                                   Others  \n",
       "32      Manufacturing                            Manufacturing  \n",
       "33      Manufacturing                            Manufacturing  "
      ]
     },
     "execution_count": 138,
     "metadata": {},
     "output_type": "execute_result"
    }
   ],
   "source": [
    "D1.head()"
   ]
  },
  {
   "cell_type": "code",
   "execution_count": 99,
   "metadata": {},
   "outputs": [
    {
     "data": {
      "text/plain": [
       "107318294664.0"
      ]
     },
     "execution_count": 99,
     "metadata": {},
     "output_type": "execute_result"
    }
   ],
   "source": [
    "D1.raised_amount_usd.sum()"
   ]
  },
  {
   "cell_type": "code",
   "execution_count": 100,
   "metadata": {},
   "outputs": [
    {
     "data": {
      "text/plain": [
       "12012"
      ]
     },
     "execution_count": 100,
     "metadata": {},
     "output_type": "execute_result"
    }
   ],
   "source": [
    "D1.raised_amount_usd.count()"
   ]
  },
  {
   "cell_type": "code",
   "execution_count": 101,
   "metadata": {},
   "outputs": [
    {
     "data": {
      "text/plain": [
       "(12012, 10)"
      ]
     },
     "execution_count": 101,
     "metadata": {},
     "output_type": "execute_result"
    }
   ],
   "source": [
    "D1.shape"
   ]
  },
  {
   "cell_type": "code",
   "execution_count": 104,
   "metadata": {},
   "outputs": [
    {
     "data": {
      "text/plain": [
       "main_sector\n",
       "Others                                     2950\n",
       "Social, Finance, Analytics, Advertising    2714\n",
       "Cleantech / Semiconductors                 2300\n",
       "News, Search and Messaging                 1582\n",
       "Health                                      909\n",
       "Name: raised_amount_usd, dtype: int64"
      ]
     },
     "execution_count": 104,
     "metadata": {},
     "output_type": "execute_result"
    }
   ],
   "source": [
    "#Finding the top sectors with the highest number of investments in USA.\n",
    "D1.groupby('main_sector')['raised_amount_usd'].count().sort_values(ascending = False).head()"
   ]
  },
  {
   "cell_type": "code",
   "execution_count": 105,
   "metadata": {},
   "outputs": [
    {
     "data": {
      "text/plain": [
       "main_sector\n",
       "Others                                     2.632101e+10\n",
       "Social, Finance, Analytics, Advertising    2.380738e+10\n",
       "Cleantech / Semiconductors                 2.120663e+10\n",
       "News, Search and Messaging                 1.395957e+10\n",
       "Health                                     8.211859e+09\n",
       "Name: raised_amount_usd, dtype: float64"
      ]
     },
     "execution_count": 105,
     "metadata": {},
     "output_type": "execute_result"
    }
   ],
   "source": [
    "D1.groupby('main_sector')['raised_amount_usd'].sum().sort_values(ascending = False).head()"
   ]
  },
  {
   "cell_type": "code",
   "execution_count": 107,
   "metadata": {},
   "outputs": [
    {
     "data": {
      "text/plain": [
       "main_sector  company_permalink                \n",
       "Others       /organization/virtustream            64300000.0\n",
       "             /organization/capella                54968051.0\n",
       "             /organization/airtight-networks      54201907.0\n",
       "             /organization/decarta                52100000.0\n",
       "             /organization/black-duck-software    51000000.0\n",
       "Name: raised_amount_usd, dtype: float64"
      ]
     },
     "execution_count": 107,
     "metadata": {},
     "output_type": "execute_result"
    }
   ],
   "source": [
    "#Finding the highest invested company among the 1st Top sectors of the country.\n",
    "D1[D1['main_sector']=='Others'].groupby(['main_sector','company_permalink']).raised_amount_usd.sum().sort_values(ascending=False).head()"
   ]
  },
  {
   "cell_type": "code",
   "execution_count": 109,
   "metadata": {},
   "outputs": [
    {
     "data": {
      "text/plain": [
       "main_sector                              company_permalink        \n",
       "Social, Finance, Analytics, Advertising  /organization/shotspotter    67933006.0\n",
       "                                         /organization/demandbase     63000000.0\n",
       "                                         /organization/intacct        61800000.0\n",
       "                                         /organization/netbase        60600000.0\n",
       "                                         /organization/lotame         59700000.0\n",
       "Name: raised_amount_usd, dtype: float64"
      ]
     },
     "execution_count": 109,
     "metadata": {},
     "output_type": "execute_result"
    }
   ],
   "source": [
    "#Finding the highest invested company among the 2nd Top sectors of the country.\n",
    "D1[D1['main_sector']=='Social, Finance, Analytics, Advertising'].groupby(['main_sector','company_permalink']).raised_amount_usd.sum().sort_values(ascending=False).head()"
   ]
  },
  {
   "cell_type": "markdown",
   "metadata": {},
   "source": [
    "Sector Analysis- GBR"
   ]
  },
  {
   "cell_type": "code",
   "execution_count": 114,
   "metadata": {},
   "outputs": [],
   "source": [
    "D2=top9[top9['country_code']=='GBR']\n",
    "D2 = D2[(D2['raised_amount_usd'] >= 5000000) & (D2['raised_amount_usd'] <= 15000000)]"
   ]
  },
  {
   "cell_type": "code",
   "execution_count": 116,
   "metadata": {},
   "outputs": [
    {
     "data": {
      "text/html": [
       "<div>\n",
       "<style scoped>\n",
       "    .dataframe tbody tr th:only-of-type {\n",
       "        vertical-align: middle;\n",
       "    }\n",
       "\n",
       "    .dataframe tbody tr th {\n",
       "        vertical-align: top;\n",
       "    }\n",
       "\n",
       "    .dataframe thead th {\n",
       "        text-align: right;\n",
       "    }\n",
       "</style>\n",
       "<table border=\"1\" class=\"dataframe\">\n",
       "  <thead>\n",
       "    <tr style=\"text-align: right;\">\n",
       "      <th></th>\n",
       "      <th>company_permalink</th>\n",
       "      <th>funding_round_permalink</th>\n",
       "      <th>funding_round_type</th>\n",
       "      <th>funded_at</th>\n",
       "      <th>raised_amount_usd</th>\n",
       "      <th>name</th>\n",
       "      <th>status</th>\n",
       "      <th>country_code</th>\n",
       "      <th>primary_sector</th>\n",
       "      <th>main_sector</th>\n",
       "    </tr>\n",
       "  </thead>\n",
       "  <tbody>\n",
       "    <tr>\n",
       "      <th>137</th>\n",
       "      <td>/organization/365scores</td>\n",
       "      <td>/funding-round/48212f931f542fdef78810bc87aef086</td>\n",
       "      <td>venture</td>\n",
       "      <td>29-09-2014</td>\n",
       "      <td>5500000.0</td>\n",
       "      <td>365Scores</td>\n",
       "      <td>operating</td>\n",
       "      <td>GBR</td>\n",
       "      <td>Android</td>\n",
       "      <td>Social, Finance, Analytics, Advertising</td>\n",
       "    </tr>\n",
       "    <tr>\n",
       "      <th>315</th>\n",
       "      <td>/organization/7digital</td>\n",
       "      <td>/funding-round/b5ad7ed7baddd3974bd51403f17dd88f</td>\n",
       "      <td>venture</td>\n",
       "      <td>01-01-2008</td>\n",
       "      <td>8468328.0</td>\n",
       "      <td>7digital</td>\n",
       "      <td>acquired</td>\n",
       "      <td>GBR</td>\n",
       "      <td>Content Creators</td>\n",
       "      <td>Entertainment</td>\n",
       "    </tr>\n",
       "    <tr>\n",
       "      <th>316</th>\n",
       "      <td>/organization/7digital</td>\n",
       "      <td>/funding-round/eafacfcceb1fbc4fd605f641b603313e</td>\n",
       "      <td>venture</td>\n",
       "      <td>19-10-2012</td>\n",
       "      <td>10000000.0</td>\n",
       "      <td>7digital</td>\n",
       "      <td>acquired</td>\n",
       "      <td>GBR</td>\n",
       "      <td>Content Creators</td>\n",
       "      <td>Entertainment</td>\n",
       "    </tr>\n",
       "    <tr>\n",
       "      <th>341</th>\n",
       "      <td>/organization/90min</td>\n",
       "      <td>/funding-round/21a2cbf6f2fb2a1c2a61e04bf930dfe6</td>\n",
       "      <td>venture</td>\n",
       "      <td>06-10-2015</td>\n",
       "      <td>15000000.0</td>\n",
       "      <td>90min</td>\n",
       "      <td>operating</td>\n",
       "      <td>GBR</td>\n",
       "      <td>Media</td>\n",
       "      <td>Entertainment</td>\n",
       "    </tr>\n",
       "    <tr>\n",
       "      <th>342</th>\n",
       "      <td>/organization/90min</td>\n",
       "      <td>/funding-round/bd626ed022f5c66574b1afe234f3c90d</td>\n",
       "      <td>venture</td>\n",
       "      <td>07-05-2013</td>\n",
       "      <td>5800000.0</td>\n",
       "      <td>90min</td>\n",
       "      <td>operating</td>\n",
       "      <td>GBR</td>\n",
       "      <td>Media</td>\n",
       "      <td>Entertainment</td>\n",
       "    </tr>\n",
       "  </tbody>\n",
       "</table>\n",
       "</div>"
      ],
      "text/plain": [
       "           company_permalink                          funding_round_permalink  \\\n",
       "137  /organization/365scores  /funding-round/48212f931f542fdef78810bc87aef086   \n",
       "315   /organization/7digital  /funding-round/b5ad7ed7baddd3974bd51403f17dd88f   \n",
       "316   /organization/7digital  /funding-round/eafacfcceb1fbc4fd605f641b603313e   \n",
       "341      /organization/90min  /funding-round/21a2cbf6f2fb2a1c2a61e04bf930dfe6   \n",
       "342      /organization/90min  /funding-round/bd626ed022f5c66574b1afe234f3c90d   \n",
       "\n",
       "    funding_round_type   funded_at  raised_amount_usd       name     status  \\\n",
       "137            venture  29-09-2014          5500000.0  365Scores  operating   \n",
       "315            venture  01-01-2008          8468328.0   7digital   acquired   \n",
       "316            venture  19-10-2012         10000000.0   7digital   acquired   \n",
       "341            venture  06-10-2015         15000000.0      90min  operating   \n",
       "342            venture  07-05-2013          5800000.0      90min  operating   \n",
       "\n",
       "    country_code    primary_sector                              main_sector  \n",
       "137          GBR           Android  Social, Finance, Analytics, Advertising  \n",
       "315          GBR  Content Creators                            Entertainment  \n",
       "316          GBR  Content Creators                            Entertainment  \n",
       "341          GBR             Media                            Entertainment  \n",
       "342          GBR             Media                            Entertainment  "
      ]
     },
     "execution_count": 116,
     "metadata": {},
     "output_type": "execute_result"
    }
   ],
   "source": [
    "D2.head()"
   ]
  },
  {
   "cell_type": "code",
   "execution_count": 117,
   "metadata": {},
   "outputs": [
    {
     "data": {
      "text/plain": [
       "5365228300.0"
      ]
     },
     "execution_count": 117,
     "metadata": {},
     "output_type": "execute_result"
    }
   ],
   "source": [
    "D2.raised_amount_usd.sum()"
   ]
  },
  {
   "cell_type": "code",
   "execution_count": 118,
   "metadata": {},
   "outputs": [
    {
     "data": {
      "text/plain": [
       "(619, 10)"
      ]
     },
     "execution_count": 118,
     "metadata": {},
     "output_type": "execute_result"
    }
   ],
   "source": [
    "D2.shape"
   ]
  },
  {
   "cell_type": "code",
   "execution_count": 121,
   "metadata": {},
   "outputs": [
    {
     "data": {
      "text/plain": [
       "main_sector\n",
       "Others                                     147\n",
       "Social, Finance, Analytics, Advertising    133\n",
       "Cleantech / Semiconductors                 128\n",
       "News, Search and Messaging                  73\n",
       "Entertainment                               56\n",
       "Name: raised_amount_usd, dtype: int64"
      ]
     },
     "execution_count": 121,
     "metadata": {},
     "output_type": "execute_result"
    }
   ],
   "source": [
    "#Finding the top sectors with the highest number of investments in GBR.\n",
    "D2.groupby('main_sector')['raised_amount_usd'].count().sort_values(ascending = False).head()"
   ]
  },
  {
   "cell_type": "code",
   "execution_count": 122,
   "metadata": {},
   "outputs": [
    {
     "data": {
      "text/plain": [
       "main_sector\n",
       "Others                                     1.283624e+09\n",
       "Cleantech / Semiconductors                 1.150140e+09\n",
       "Social, Finance, Analytics, Advertising    1.089404e+09\n",
       "News, Search and Messaging                 6.157462e+08\n",
       "Entertainment                              4.827847e+08\n",
       "Manufacturing                              3.619403e+08\n",
       "Health                                     2.145375e+08\n",
       "Automotive & Sports                        1.670516e+08\n",
       "Name: raised_amount_usd, dtype: float64"
      ]
     },
     "execution_count": 122,
     "metadata": {},
     "output_type": "execute_result"
    }
   ],
   "source": [
    "D2.groupby('main_sector')['raised_amount_usd'].sum().sort_values(ascending = False)"
   ]
  },
  {
   "cell_type": "code",
   "execution_count": 123,
   "metadata": {},
   "outputs": [
    {
     "data": {
      "text/plain": [
       "main_sector  company_permalink                    \n",
       "Others       /organization/electric-cloud             37000000.0\n",
       "             /organization/sensage                    36250000.0\n",
       "             /organization/enigmatic                  32500000.0\n",
       "             /organization/silverrail-technologies    29000000.0\n",
       "             /organization/opencloud                  27972766.0\n",
       "Name: raised_amount_usd, dtype: float64"
      ]
     },
     "execution_count": 123,
     "metadata": {},
     "output_type": "execute_result"
    }
   ],
   "source": [
    "#Finding the highest invested company among the 1st Top sectors of the country.\n",
    "D2[D2['main_sector']=='Others'].groupby(['main_sector','company_permalink']).raised_amount_usd.sum().sort_values(ascending=False).head()"
   ]
  },
  {
   "cell_type": "code",
   "execution_count": 140,
   "metadata": {},
   "outputs": [
    {
     "data": {
      "text/plain": [
       "main_sector                              company_permalink                  \n",
       "Social, Finance, Analytics, Advertising  /organization/celltick-technologies    37500000.0\n",
       "                                         /organization/mythings                 34000000.0\n",
       "                                         /organization/zopa                     32900000.0\n",
       "                                         /organization/imagini                  28550000.0\n",
       "                                         /organization/marketinvoice            25553007.0\n",
       "Name: raised_amount_usd, dtype: float64"
      ]
     },
     "execution_count": 140,
     "metadata": {},
     "output_type": "execute_result"
    }
   ],
   "source": [
    "#Finding the highest invested company among the 2nd Top sectors of the country.\n",
    "D2[D2['main_sector']=='Social, Finance, Analytics, Advertising'].groupby(['main_sector','company_permalink']).raised_amount_usd.sum().sort_values(ascending=False).head()"
   ]
  },
  {
   "cell_type": "markdown",
   "metadata": {},
   "source": [
    "Sector Analysis- IND"
   ]
  },
  {
   "cell_type": "code",
   "execution_count": 129,
   "metadata": {},
   "outputs": [],
   "source": [
    "D3=top9[top9['country_code']=='IND']\n",
    "D3 = D3[(D3['raised_amount_usd'] >= 5000000) & (D3['raised_amount_usd'] <= 15000000)]"
   ]
  },
  {
   "cell_type": "code",
   "execution_count": 130,
   "metadata": {},
   "outputs": [
    {
     "data": {
      "text/html": [
       "<div>\n",
       "<style scoped>\n",
       "    .dataframe tbody tr th:only-of-type {\n",
       "        vertical-align: middle;\n",
       "    }\n",
       "\n",
       "    .dataframe tbody tr th {\n",
       "        vertical-align: top;\n",
       "    }\n",
       "\n",
       "    .dataframe thead th {\n",
       "        text-align: right;\n",
       "    }\n",
       "</style>\n",
       "<table border=\"1\" class=\"dataframe\">\n",
       "  <thead>\n",
       "    <tr style=\"text-align: right;\">\n",
       "      <th></th>\n",
       "      <th>company_permalink</th>\n",
       "      <th>funding_round_permalink</th>\n",
       "      <th>funding_round_type</th>\n",
       "      <th>funded_at</th>\n",
       "      <th>raised_amount_usd</th>\n",
       "      <th>name</th>\n",
       "      <th>status</th>\n",
       "      <th>country_code</th>\n",
       "      <th>primary_sector</th>\n",
       "      <th>main_sector</th>\n",
       "    </tr>\n",
       "  </thead>\n",
       "  <tbody>\n",
       "    <tr>\n",
       "      <th>0</th>\n",
       "      <td>/organization/-fame</td>\n",
       "      <td>/funding-round/9a01d05418af9f794eebff7ace91f638</td>\n",
       "      <td>venture</td>\n",
       "      <td>05-01-2015</td>\n",
       "      <td>10000000.0</td>\n",
       "      <td>#fame</td>\n",
       "      <td>operating</td>\n",
       "      <td>IND</td>\n",
       "      <td>Media</td>\n",
       "      <td>Entertainment</td>\n",
       "    </tr>\n",
       "    <tr>\n",
       "      <th>76</th>\n",
       "      <td>/organization/21diamonds-india</td>\n",
       "      <td>/funding-round/6de7ffef8091ba9f33821f4b861f434a</td>\n",
       "      <td>venture</td>\n",
       "      <td>15-11-2012</td>\n",
       "      <td>6369507.0</td>\n",
       "      <td>21Diamonds</td>\n",
       "      <td>operating</td>\n",
       "      <td>IND</td>\n",
       "      <td>E-Commerce</td>\n",
       "      <td>Others</td>\n",
       "    </tr>\n",
       "    <tr>\n",
       "      <th>372</th>\n",
       "      <td>/organization/a-little-world</td>\n",
       "      <td>/funding-round/18d98f82ed392b1609975b81f3e8b3fb</td>\n",
       "      <td>venture</td>\n",
       "      <td>09-09-2008</td>\n",
       "      <td>6410000.0</td>\n",
       "      <td>A LITTLE WORLD</td>\n",
       "      <td>operating</td>\n",
       "      <td>IND</td>\n",
       "      <td>Finance</td>\n",
       "      <td>Social, Finance, Analytics, Advertising</td>\n",
       "    </tr>\n",
       "    <tr>\n",
       "      <th>1076</th>\n",
       "      <td>/organization/adlabs-imagica</td>\n",
       "      <td>/funding-round/508d3c83daaae9fda3ba6f9682c78f6c</td>\n",
       "      <td>venture</td>\n",
       "      <td>28-10-2014</td>\n",
       "      <td>8180000.0</td>\n",
       "      <td>Adlabs Imagica</td>\n",
       "      <td>operating</td>\n",
       "      <td>IND</td>\n",
       "      <td>Entertainment</td>\n",
       "      <td>Entertainment</td>\n",
       "    </tr>\n",
       "    <tr>\n",
       "      <th>1458</th>\n",
       "      <td>/organization/agile</td>\n",
       "      <td>/funding-round/cd3dd1c98ce9d0f632d8752163941674</td>\n",
       "      <td>venture</td>\n",
       "      <td>01-05-2011</td>\n",
       "      <td>5740000.0</td>\n",
       "      <td>Agile</td>\n",
       "      <td>operating</td>\n",
       "      <td>IND</td>\n",
       "      <td>Finance</td>\n",
       "      <td>Social, Finance, Analytics, Advertising</td>\n",
       "    </tr>\n",
       "  </tbody>\n",
       "</table>\n",
       "</div>"
      ],
      "text/plain": [
       "                   company_permalink  \\\n",
       "0                /organization/-fame   \n",
       "76    /organization/21diamonds-india   \n",
       "372     /organization/a-little-world   \n",
       "1076    /organization/adlabs-imagica   \n",
       "1458             /organization/agile   \n",
       "\n",
       "                              funding_round_permalink funding_round_type  \\\n",
       "0     /funding-round/9a01d05418af9f794eebff7ace91f638            venture   \n",
       "76    /funding-round/6de7ffef8091ba9f33821f4b861f434a            venture   \n",
       "372   /funding-round/18d98f82ed392b1609975b81f3e8b3fb            venture   \n",
       "1076  /funding-round/508d3c83daaae9fda3ba6f9682c78f6c            venture   \n",
       "1458  /funding-round/cd3dd1c98ce9d0f632d8752163941674            venture   \n",
       "\n",
       "       funded_at  raised_amount_usd            name     status country_code  \\\n",
       "0     05-01-2015         10000000.0           #fame  operating          IND   \n",
       "76    15-11-2012          6369507.0      21Diamonds  operating          IND   \n",
       "372   09-09-2008          6410000.0  A LITTLE WORLD  operating          IND   \n",
       "1076  28-10-2014          8180000.0  Adlabs Imagica  operating          IND   \n",
       "1458  01-05-2011          5740000.0           Agile  operating          IND   \n",
       "\n",
       "     primary_sector                              main_sector  \n",
       "0             Media                            Entertainment  \n",
       "76       E-Commerce                                   Others  \n",
       "372         Finance  Social, Finance, Analytics, Advertising  \n",
       "1076  Entertainment                            Entertainment  \n",
       "1458        Finance  Social, Finance, Analytics, Advertising  "
      ]
     },
     "execution_count": 130,
     "metadata": {},
     "output_type": "execute_result"
    }
   ],
   "source": [
    "D3.head()"
   ]
  },
  {
   "cell_type": "code",
   "execution_count": 131,
   "metadata": {},
   "outputs": [
    {
     "data": {
      "text/plain": [
       "2949543602.0"
      ]
     },
     "execution_count": 131,
     "metadata": {},
     "output_type": "execute_result"
    }
   ],
   "source": [
    "D3.raised_amount_usd.sum()"
   ]
  },
  {
   "cell_type": "code",
   "execution_count": 132,
   "metadata": {},
   "outputs": [
    {
     "data": {
      "text/plain": [
       "(328, 10)"
      ]
     },
     "execution_count": 132,
     "metadata": {},
     "output_type": "execute_result"
    }
   ],
   "source": [
    "D3.shape"
   ]
  },
  {
   "cell_type": "code",
   "execution_count": 133,
   "metadata": {},
   "outputs": [
    {
     "data": {
      "text/plain": [
       "main_sector\n",
       "Others                                     110\n",
       "Social, Finance, Analytics, Advertising     60\n",
       "News, Search and Messaging                  52\n",
       "Entertainment                               33\n",
       "Manufacturing                               21\n",
       "Name: raised_amount_usd, dtype: int64"
      ]
     },
     "execution_count": 133,
     "metadata": {},
     "output_type": "execute_result"
    }
   ],
   "source": [
    "#Finding the top sectors with the highest number of investments in IND.\n",
    "D3.groupby('main_sector')['raised_amount_usd'].count().sort_values(ascending = False).head()"
   ]
  },
  {
   "cell_type": "code",
   "execution_count": 134,
   "metadata": {},
   "outputs": [
    {
     "data": {
      "text/plain": [
       "main_sector\n",
       "Others                                     1.013410e+09\n",
       "Social, Finance, Analytics, Advertising    5.505496e+08\n",
       "News, Search and Messaging                 4.338345e+08\n",
       "Entertainment                              2.808300e+08\n",
       "Manufacturing                              2.009000e+08\n",
       "Health                                     1.677400e+08\n",
       "Cleantech / Semiconductors                 1.653800e+08\n",
       "Automotive & Sports                        1.369000e+08\n",
       "Name: raised_amount_usd, dtype: float64"
      ]
     },
     "execution_count": 134,
     "metadata": {},
     "output_type": "execute_result"
    }
   ],
   "source": [
    "D3.groupby('main_sector')['raised_amount_usd'].sum().sort_values(ascending = False)"
   ]
  },
  {
   "cell_type": "code",
   "execution_count": 135,
   "metadata": {},
   "outputs": [
    {
     "data": {
      "text/plain": [
       "main_sector  company_permalink             \n",
       "Others       /organization/firstcry-com        39000000.0\n",
       "             /organization/myntra              38000000.0\n",
       "             /organization/commonfloor         32900000.0\n",
       "             /organization/pepperfry-com       28000000.0\n",
       "             /organization/itzcash-card-ltd    25000000.0\n",
       "Name: raised_amount_usd, dtype: float64"
      ]
     },
     "execution_count": 135,
     "metadata": {},
     "output_type": "execute_result"
    }
   ],
   "source": [
    "#Finding the highest invested company among the 1st Top sectors of the country.\n",
    "D3[D3['main_sector']=='Others'].groupby(['main_sector','company_permalink']).raised_amount_usd.sum().sort_values(ascending=False).head()"
   ]
  },
  {
   "cell_type": "code",
   "execution_count": 137,
   "metadata": {},
   "outputs": [
    {
     "data": {
      "text/plain": [
       "main_sector                              company_permalink                       \n",
       "Social, Finance, Analytics, Advertising  /organization/manthan-systems               50700000.0\n",
       "                                         /organization/komli-media                   28000000.0\n",
       "                                         /organization/shopclues-com                 25000000.0\n",
       "                                         /organization/intarvo                       21900000.0\n",
       "                                         /organization/grameen-financial-services    21556050.0\n",
       "Name: raised_amount_usd, dtype: float64"
      ]
     },
     "execution_count": 137,
     "metadata": {},
     "output_type": "execute_result"
    }
   ],
   "source": [
    "#Finding the highest invested company among the 2nd Top sectors of the country.\n",
    "D3[D3['main_sector']=='Social, Finance, Analytics, Advertising'].groupby(['main_sector','company_permalink']).raised_amount_usd.sum().sort_values(ascending=False).head()"
   ]
  },
  {
   "cell_type": "markdown",
   "metadata": {},
   "source": [
    "# Plots"
   ]
  },
  {
   "cell_type": "markdown",
   "metadata": {},
   "source": [
    "# First Plot"
   ]
  },
  {
   "cell_type": "code",
   "execution_count": 169,
   "metadata": {},
   "outputs": [],
   "source": [
    "master_frame_p= pd.merge(round2, companies, how=\"inner\", left_on = \"company_permalink\", right_on = \"permalink\")\n",
    "master_frame_p=master_frame_p[master_frame_p['funding_round_type'].isin(['venture','angel','seed','private_equity'])]"
   ]
  },
  {
   "cell_type": "code",
   "execution_count": 170,
   "metadata": {},
   "outputs": [
    {
     "data": {
      "image/png": "[encoded data removed]",
      "text/plain": [
       "<Figure size 720x360 with 1 Axes>"
      ]
     },
     "metadata": {
      "needs_background": "light"
     },
     "output_type": "display_data"
    }
   ],
   "source": [
    "# bar plot with default statistic=mean\n",
    "plt.figure(figsize=(10,5))\n",
    "g=sns.barplot(x='funding_round_type', y='raised_amount_usd', data=master_frame_p)\n",
    "g.set(xlabel='Funding Type', ylabel='Raised Amount')\n",
    "g.set_title('Funding Type Analysis',fontsize =16)\n",
    "\n",
    "plt.axhline(5000000, color='green')\n",
    "plt.axhline(15000000, color='red')\n",
    "\n",
    "\n",
    "plt.show()"
   ]
  },
  {
   "cell_type": "markdown",
   "metadata": {},
   "source": [
    "Above plot clearly shows that Venture type funding is best funding type for Sparks fund for investing between 5 to 15 million USD"
   ]
  },
  {
   "cell_type": "markdown",
   "metadata": {},
   "source": [
    "# Second Plot"
   ]
  },
  {
   "cell_type": "code",
   "execution_count": 145,
   "metadata": {},
   "outputs": [
    {
     "data": {
      "image/png": "[encoded data removed]",
      "text/plain": [
       "<Figure size 720x360 with 1 Axes>"
      ]
     },
     "metadata": {
      "needs_background": "light"
     },
     "output_type": "display_data"
    }
   ],
   "source": [
    "# bar plot with default statistic=mean\n",
    "plt.figure(figsize=(10,5))\n",
    "c=sns.barplot(x='country_code', y='raised_amount_usd', data=top9, estimator=np.sum,color=(0.3, 0.4, 0.7, 0.6))\n",
    "c.set_yscale('log')\n",
    "c.set(xlabel='Funding Type', ylabel='Raised Amount')\n",
    "c.set_title('Country Analysis',fontsize =18)\n",
    "plt.show()"
   ]
  },
  {
   "cell_type": "markdown",
   "metadata": {},
   "source": [
    "A plot showing the number of investments in the top 3 sectors of the top 3 countries on one chart (for the chosen investment type i.e venture)"
   ]
  },
  {
   "cell_type": "markdown",
   "metadata": {},
   "source": [
    "# Third Plot"
   ]
  },
  {
   "cell_type": "markdown",
   "metadata": {},
   "source": [
    "We have to create a master dataframe with data for top three sectors of top three countries"
   ]
  },
  {
   "cell_type": "code",
   "execution_count": 166,
   "metadata": {},
   "outputs": [],
   "source": [
    "master_D=D1[D1['main_sector'].isin(['Others','Social, Finance, Analytics, Advertising','Cleantech / Semiconductors'])]\n",
    "master_D=master_D.append(D2[D2['main_sector'].isin(['Others','Social, Finance, Analytics, Advertising','Cleantech / Semiconductors'])], ignore_index=True)\n",
    "master_D=master_D.append(D3[D3['main_sector'].isin(['Others','Social, Finance, Analytics, Advertising','News, Search and Messaging'])], ignore_index=True)"
   ]
  },
  {
   "cell_type": "code",
   "execution_count": 168,
   "metadata": {},
   "outputs": [
    {
     "data": {
      "image/png": "[encoded data removed]",
      "text/plain": [
       "<Figure size 1040x640 with 1 Axes>"
      ]
     },
     "metadata": {},
     "output_type": "display_data"
    }
   ],
   "source": [
    "# set figure size for larger figure\n",
    "plt.figure(num=None, figsize=(13, 8), dpi=80, facecolor='w', edgecolor='k')\n",
    "s=sns.barplot(x='country_code', y='raised_amount_usd', hue=\"main_sector\", data=master_D, estimator=lambda x: len(x))\n",
    "s.set(xlabel='Country', ylabel='Number of Investments')\n",
    "s.set_title('Investments in top3 sectors of top 3 countries',fontsize =16)\n",
    "plt.show()"
   ]
  },
  {
   "cell_type": "code",
   "execution_count": null,
   "metadata": {},
   "outputs": [],
   "source": []
  }
 ],
 "metadata": {
  "kernelspec": {
   "display_name": "Python 3",
   "language": "python",
   "name": "python3"
  },
  "language_info": {
   "codemirror_mode": {
    "name": "ipython",
    "version": 3
   },
   "file_extension": ".py",
   "mimetype": "text/x-python",
   "name": "python",
   "nbconvert_exporter": "python",
   "pygments_lexer": "ipython3",
   "version": "3.7.6"
  }
 },
 "nbformat": 4,
 "nbformat_minor": 4
}
